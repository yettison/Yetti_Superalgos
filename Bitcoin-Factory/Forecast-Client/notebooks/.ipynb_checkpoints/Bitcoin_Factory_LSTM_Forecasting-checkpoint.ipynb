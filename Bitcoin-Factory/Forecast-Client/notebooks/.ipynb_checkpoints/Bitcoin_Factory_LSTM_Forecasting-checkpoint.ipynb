{
 "cells": [
  {
   "cell_type": "markdown",
   "metadata": {
    "id": "DweYe9FcbMK_"
   },
   "source": [
    "##### Bitcoin Factory Machine Learning\n"
   ]
  },
  {
   "cell_type": "markdown",
   "metadata": {},
   "source": [
    "# Multivariate Time Series Forecasting with LSTMs in Keras"
   ]
  },
  {
   "cell_type": "markdown",
   "metadata": {
    "id": "sUtoed20cRJJ"
   },
   "source": [
    "## Time Series Forcasting - Multiple Lag Timesteps - Multiple Labels"
   ]
  },
  {
   "cell_type": "markdown",
   "metadata": {},
   "source": [
    "Based on Tutorial from https://machinelearningmastery.com/multivariate-time-series-forecasting-lstms-keras/"
   ]
  },
  {
   "cell_type": "markdown",
   "metadata": {},
   "source": [
    "# Strategy"
   ]
  },
  {
   "cell_type": "markdown",
   "metadata": {},
   "source": [
    "The strategy is to predict the Candle.Max and Candle.Min of a set of Crypto Assets at the highest timeframe possible, in order to use the prediction to pick the one with higher % of predicted increase in price to take a position in it before that happens."
   ]
  },
  {
   "cell_type": "markdown",
   "metadata": {},
   "source": [
    "# Code to Run"
   ]
  },
  {
   "cell_type": "markdown",
   "metadata": {},
   "source": [
    "## Libraries Used"
   ]
  },
  {
   "cell_type": "code",
   "execution_count": 1,
   "metadata": {},
   "outputs": [],
   "source": [
    "\n",
    "from math import sqrt\n",
    "from numpy import concatenate\n",
    "from matplotlib import pyplot\n",
    "from pandas import read_csv\n",
    "from pandas import DataFrame\n",
    "from pandas import concat\n",
    "from sklearn.preprocessing import MinMaxScaler\n",
    "from sklearn.preprocessing import LabelEncoder\n",
    "from sklearn.metrics import mean_squared_error\n",
    "from keras.models import Sequential\n",
    "from keras.layers import Dense\n",
    "from keras.layers import LSTM\n",
    "from keras.models import load_model"
   ]
  },
  {
   "cell_type": "markdown",
   "metadata": {},
   "source": [
    "## Functions Used"
   ]
  },
  {
   "cell_type": "code",
   "execution_count": 2,
   "metadata": {},
   "outputs": [],
   "source": [
    "# convert series to supervised learning\n",
    "def series_to_supervised(data, n_in=1, n_out=1, dropnan=True):\n",
    "\tn_vars = 1 if type(data) is list else data.shape[1]\n",
    "\tdf = DataFrame(data)\n",
    "\tcols, names = list(), list()\n",
    "\t# input sequence (t-n, ... t-1)\n",
    "\tfor i in range(n_in, 0, -1):\n",
    "\t\tcols.append(df.shift(i))\n",
    "\t\tnames += [('var%d(t-%d)' % (j+1, i)) for j in range(n_vars)]\n",
    "\t# forecast sequence (t, t+1, ... t+n)\n",
    "\tfor i in range(0, n_out):\n",
    "\t\tcols.append(df.shift(-i))\n",
    "\t\tif i == 0:\n",
    "\t\t\tnames += [('var%d(t)' % (j+1)) for j in range(n_vars)]\n",
    "\t\telse:\n",
    "\t\t\tnames += [('var%d(t+%d)' % (j+1, i)) for j in range(n_vars)]\n",
    "\t# put it all together\n",
    "\tagg = concat(cols, axis=1)\n",
    "\tagg.columns = names\n",
    "\t# drop rows with NaN values\n",
    "\tif dropnan:\n",
    "\t\tagg.dropna(inplace=True)\n",
    "\treturn agg \n",
    " "
   ]
  },
  {
   "cell_type": "markdown",
   "metadata": {},
   "source": [
    "## Load the Instructions Dataset"
   ]
  },
  {
   "cell_type": "code",
   "execution_count": 3,
   "metadata": {},
   "outputs": [
    {
     "data": {
      "text/html": [
       "<div>\n",
       "<style scoped>\n",
       "    .dataframe tbody tr th:only-of-type {\n",
       "        vertical-align: middle;\n",
       "    }\n",
       "\n",
       "    .dataframe tbody tr th {\n",
       "        vertical-align: top;\n",
       "    }\n",
       "\n",
       "    .dataframe thead th {\n",
       "        text-align: right;\n",
       "    }\n",
       "</style>\n",
       "<table border=\"1\" class=\"dataframe\">\n",
       "  <thead>\n",
       "    <tr style=\"text-align: right;\">\n",
       "      <th></th>\n",
       "      <th>INSTRUCTION</th>\n",
       "      <th>VALUE</th>\n",
       "    </tr>\n",
       "  </thead>\n",
       "  <tbody>\n",
       "    <tr>\n",
       "      <th>0</th>\n",
       "      <td>ACTION_TO_TAKE</td>\n",
       "      <td>LOAD_MODEL_AND_PREDICT</td>\n",
       "    </tr>\n",
       "    <tr>\n",
       "      <th>1</th>\n",
       "      <td>MODEL_FILE_NAME</td>\n",
       "      <td>MODEL-1</td>\n",
       "    </tr>\n",
       "  </tbody>\n",
       "</table>\n",
       "</div>"
      ],
      "text/plain": [
       "       INSTRUCTION                   VALUE\n",
       "0   ACTION_TO_TAKE  LOAD_MODEL_AND_PREDICT\n",
       "1  MODEL_FILE_NAME                 MODEL-1"
      ]
     },
     "execution_count": 3,
     "metadata": {},
     "output_type": "execute_result"
    }
   ],
   "source": [
    "instructions_dataset = read_csv(\n",
    "    '/tf/notebooks/instructions.csv', \n",
    "    header=0, \n",
    "    sep=' ', \n",
    "    skipinitialspace=True\n",
    ")\n",
    "\n",
    "instructions_dataset"
   ]
  },
  {
   "cell_type": "code",
   "execution_count": 4,
   "metadata": {},
   "outputs": [],
   "source": [
    "# what are we going to do in the current run?\n",
    "ACTION_TO_TAKE = instructions_dataset.values[0][1]\n",
    "\n",
    "# name of the model file to load or save.\n",
    "MODEL_FILE_NAME = instructions_dataset.values[1][1]"
   ]
  },
  {
   "cell_type": "markdown",
   "metadata": {},
   "source": [
    "## Load the Parameters Dataset\n"
   ]
  },
  {
   "cell_type": "code",
   "execution_count": 5,
   "metadata": {},
   "outputs": [
    {
     "data": {
      "text/html": [
       "<div>\n",
       "<style scoped>\n",
       "    .dataframe tbody tr th:only-of-type {\n",
       "        vertical-align: middle;\n",
       "    }\n",
       "\n",
       "    .dataframe tbody tr th {\n",
       "        vertical-align: top;\n",
       "    }\n",
       "\n",
       "    .dataframe thead th {\n",
       "        text-align: right;\n",
       "    }\n",
       "</style>\n",
       "<table border=\"1\" class=\"dataframe\">\n",
       "  <thead>\n",
       "    <tr style=\"text-align: right;\">\n",
       "      <th></th>\n",
       "      <th>PARAMETER</th>\n",
       "      <th>VALUE</th>\n",
       "    </tr>\n",
       "  </thead>\n",
       "  <tbody>\n",
       "    <tr>\n",
       "      <th>0</th>\n",
       "      <td>LIST_OF_ASSETS</td>\n",
       "      <td>BTC</td>\n",
       "    </tr>\n",
       "    <tr>\n",
       "      <th>1</th>\n",
       "      <td>LIST_OF_TIMEFRAMES</td>\n",
       "      <td>01-hs</td>\n",
       "    </tr>\n",
       "    <tr>\n",
       "      <th>2</th>\n",
       "      <td>NUMBER_OF_INDICATORS_PROPERTIES</td>\n",
       "      <td>5</td>\n",
       "    </tr>\n",
       "    <tr>\n",
       "      <th>3</th>\n",
       "      <td>NUMBER_OF_LAG_TIMESTEPS</td>\n",
       "      <td>9</td>\n",
       "    </tr>\n",
       "    <tr>\n",
       "      <th>4</th>\n",
       "      <td>NUMBER_OF_ASSETS</td>\n",
       "      <td>1</td>\n",
       "    </tr>\n",
       "    <tr>\n",
       "      <th>5</th>\n",
       "      <td>NUMBER_OF_LABELS</td>\n",
       "      <td>3</td>\n",
       "    </tr>\n",
       "    <tr>\n",
       "      <th>6</th>\n",
       "      <td>PERCENTAGE_OF_DATASET_FOR_TRAINING</td>\n",
       "      <td>80</td>\n",
       "    </tr>\n",
       "    <tr>\n",
       "      <th>7</th>\n",
       "      <td>NUMBER_OF_FEATURES</td>\n",
       "      <td>5</td>\n",
       "    </tr>\n",
       "    <tr>\n",
       "      <th>8</th>\n",
       "      <td>NUMBER_OF_EPOCHS</td>\n",
       "      <td>2</td>\n",
       "    </tr>\n",
       "    <tr>\n",
       "      <th>9</th>\n",
       "      <td>NUMBER_OF_LSTM_NEURONS</td>\n",
       "      <td>50</td>\n",
       "    </tr>\n",
       "  </tbody>\n",
       "</table>\n",
       "</div>"
      ],
      "text/plain": [
       "                            PARAMETER  VALUE\n",
       "0                      LIST_OF_ASSETS    BTC\n",
       "1                  LIST_OF_TIMEFRAMES  01-hs\n",
       "2     NUMBER_OF_INDICATORS_PROPERTIES      5\n",
       "3             NUMBER_OF_LAG_TIMESTEPS      9\n",
       "4                    NUMBER_OF_ASSETS      1\n",
       "5                    NUMBER_OF_LABELS      3\n",
       "6  PERCENTAGE_OF_DATASET_FOR_TRAINING     80\n",
       "7                  NUMBER_OF_FEATURES      5\n",
       "8                    NUMBER_OF_EPOCHS      2\n",
       "9              NUMBER_OF_LSTM_NEURONS     50"
      ]
     },
     "execution_count": 5,
     "metadata": {},
     "output_type": "execute_result"
    }
   ],
   "source": [
    "parameters_dataset = read_csv(\n",
    "    '/tf/notebooks/parameters.csv', \n",
    "    header=0, \n",
    "    sep=' ', \n",
    "    skipinitialspace=True\n",
    ")\n",
    "\n",
    "parameters_dataset"
   ]
  },
  {
   "cell_type": "code",
   "execution_count": 6,
   "metadata": {},
   "outputs": [],
   "source": [
    "# number of indicator properties that are at the raw dataset. Each set of indicators properties might be at many assets or timeframes.\n",
    "NUMBER_OF_INDICATORS_PROPERTIES = int(parameters_dataset.values[2][1])\n",
    "\n",
    "# number of timesteps in the secuence that we are going to use to feed the model.\n",
    "NUMBER_OF_LAG_TIMESTEPS = int(parameters_dataset.values[3][1])\n",
    "\n",
    "# number of assets included at the raw dataset.\n",
    "NUMBER_OF_ASSETS = int(parameters_dataset.values[4][1])\n",
    "\n",
    "# number of things we are going to predict.\n",
    "NUMBER_OF_LABELS = int(parameters_dataset.values[5][1])\n",
    "\n",
    "# definition of how the raw dataset is going to be divided between a Traing Dataset and a Test Dataset.\n",
    "PERCENTAGE_OF_DATASET_FOR_TRAINING = int(parameters_dataset.values[6][1])\n",
    "\n",
    "NUMBER_OF_FEATURES = int(parameters_dataset.values[7][1])\n",
    "\n",
    "# hyper-parameters\n",
    "NUMBER_OF_EPOCHS = int(parameters_dataset.values[8][1])\n",
    "NUMBER_OF_LSTM_NEURONS = int(parameters_dataset.values[9][1])"
   ]
  },
  {
   "cell_type": "markdown",
   "metadata": {},
   "source": [
    "## Load the Time-Series Dataset"
   ]
  },
  {
   "cell_type": "code",
   "execution_count": 7,
   "metadata": {},
   "outputs": [
    {
     "data": {
      "text/html": [
       "<div>\n",
       "<style scoped>\n",
       "    .dataframe tbody tr th:only-of-type {\n",
       "        vertical-align: middle;\n",
       "    }\n",
       "\n",
       "    .dataframe tbody tr th {\n",
       "        vertical-align: top;\n",
       "    }\n",
       "\n",
       "    .dataframe thead th {\n",
       "        text-align: right;\n",
       "    }\n",
       "</style>\n",
       "<table border=\"1\" class=\"dataframe\">\n",
       "  <thead>\n",
       "    <tr style=\"text-align: right;\">\n",
       "      <th></th>\n",
       "      <th>BTC-candle.max-01-hs-1</th>\n",
       "      <th>BTC-candle.min-01-hs-1</th>\n",
       "      <th>BTC-candle.open-01-hs-1</th>\n",
       "      <th>BTC-candle.close-01-hs-1</th>\n",
       "      <th>BTC-volume.total-01-hs-1</th>\n",
       "    </tr>\n",
       "    <tr>\n",
       "      <th>Timestamp</th>\n",
       "      <th></th>\n",
       "      <th></th>\n",
       "      <th></th>\n",
       "      <th></th>\n",
       "      <th></th>\n",
       "    </tr>\n",
       "  </thead>\n",
       "  <tbody>\n",
       "    <tr>\n",
       "      <th>1502942400000</th>\n",
       "      <td>4313.62</td>\n",
       "      <td>4261.32</td>\n",
       "      <td>4261.48</td>\n",
       "      <td>4308.83</td>\n",
       "      <td>47.181009</td>\n",
       "    </tr>\n",
       "    <tr>\n",
       "      <th>1502946000000</th>\n",
       "      <td>4328.69</td>\n",
       "      <td>4291.37</td>\n",
       "      <td>4308.83</td>\n",
       "      <td>4315.32</td>\n",
       "      <td>23.234916</td>\n",
       "    </tr>\n",
       "    <tr>\n",
       "      <th>1502949600000</th>\n",
       "      <td>4345.45</td>\n",
       "      <td>4309.37</td>\n",
       "      <td>4315.32</td>\n",
       "      <td>4324.35</td>\n",
       "      <td>7.229691</td>\n",
       "    </tr>\n",
       "    <tr>\n",
       "      <th>1502953200000</th>\n",
       "      <td>4349.99</td>\n",
       "      <td>4287.41</td>\n",
       "      <td>4324.35</td>\n",
       "      <td>4349.99</td>\n",
       "      <td>4.443249</td>\n",
       "    </tr>\n",
       "    <tr>\n",
       "      <th>1502956800000</th>\n",
       "      <td>4377.85</td>\n",
       "      <td>4333.32</td>\n",
       "      <td>4333.32</td>\n",
       "      <td>4360.69</td>\n",
       "      <td>0.972807</td>\n",
       "    </tr>\n",
       "    <tr>\n",
       "      <th>...</th>\n",
       "      <td>...</td>\n",
       "      <td>...</td>\n",
       "      <td>...</td>\n",
       "      <td>...</td>\n",
       "      <td>...</td>\n",
       "    </tr>\n",
       "    <tr>\n",
       "      <th>1648440000000</th>\n",
       "      <td>47218.88</td>\n",
       "      <td>46864.40</td>\n",
       "      <td>47049.40</td>\n",
       "      <td>47124.80</td>\n",
       "      <td>1410.573460</td>\n",
       "    </tr>\n",
       "    <tr>\n",
       "      <th>1648443600000</th>\n",
       "      <td>47371.99</td>\n",
       "      <td>47011.38</td>\n",
       "      <td>47124.80</td>\n",
       "      <td>47056.19</td>\n",
       "      <td>4718.796400</td>\n",
       "    </tr>\n",
       "    <tr>\n",
       "      <th>1648447200000</th>\n",
       "      <td>47106.24</td>\n",
       "      <td>46716.83</td>\n",
       "      <td>47056.19</td>\n",
       "      <td>46904.73</td>\n",
       "      <td>3764.161810</td>\n",
       "    </tr>\n",
       "    <tr>\n",
       "      <th>1648450800000</th>\n",
       "      <td>47200.00</td>\n",
       "      <td>46884.84</td>\n",
       "      <td>46904.72</td>\n",
       "      <td>46989.24</td>\n",
       "      <td>2119.947300</td>\n",
       "    </tr>\n",
       "    <tr>\n",
       "      <th>1648454400000</th>\n",
       "      <td>47053.25</td>\n",
       "      <td>46845.98</td>\n",
       "      <td>46989.24</td>\n",
       "      <td>47021.24</td>\n",
       "      <td>1568.216550</td>\n",
       "    </tr>\n",
       "  </tbody>\n",
       "</table>\n",
       "<p>40421 rows × 5 columns</p>\n",
       "</div>"
      ],
      "text/plain": [
       "               BTC-candle.max-01-hs-1  BTC-candle.min-01-hs-1  \\\n",
       "Timestamp                                                       \n",
       "1502942400000                 4313.62                 4261.32   \n",
       "1502946000000                 4328.69                 4291.37   \n",
       "1502949600000                 4345.45                 4309.37   \n",
       "1502953200000                 4349.99                 4287.41   \n",
       "1502956800000                 4377.85                 4333.32   \n",
       "...                               ...                     ...   \n",
       "1648440000000                47218.88                46864.40   \n",
       "1648443600000                47371.99                47011.38   \n",
       "1648447200000                47106.24                46716.83   \n",
       "1648450800000                47200.00                46884.84   \n",
       "1648454400000                47053.25                46845.98   \n",
       "\n",
       "               BTC-candle.open-01-hs-1  BTC-candle.close-01-hs-1  \\\n",
       "Timestamp                                                          \n",
       "1502942400000                  4261.48                   4308.83   \n",
       "1502946000000                  4308.83                   4315.32   \n",
       "1502949600000                  4315.32                   4324.35   \n",
       "1502953200000                  4324.35                   4349.99   \n",
       "1502956800000                  4333.32                   4360.69   \n",
       "...                                ...                       ...   \n",
       "1648440000000                 47049.40                  47124.80   \n",
       "1648443600000                 47124.80                  47056.19   \n",
       "1648447200000                 47056.19                  46904.73   \n",
       "1648450800000                 46904.72                  46989.24   \n",
       "1648454400000                 46989.24                  47021.24   \n",
       "\n",
       "               BTC-volume.total-01-hs-1  \n",
       "Timestamp                                \n",
       "1502942400000                 47.181009  \n",
       "1502946000000                 23.234916  \n",
       "1502949600000                  7.229691  \n",
       "1502953200000                  4.443249  \n",
       "1502956800000                  0.972807  \n",
       "...                                 ...  \n",
       "1648440000000               1410.573460  \n",
       "1648443600000               4718.796400  \n",
       "1648447200000               3764.161810  \n",
       "1648450800000               2119.947300  \n",
       "1648454400000               1568.216550  \n",
       "\n",
       "[40421 rows x 5 columns]"
      ]
     },
     "execution_count": 7,
     "metadata": {},
     "output_type": "execute_result"
    }
   ],
   "source": [
    "timeseries_dataset = read_csv(\n",
    "    '/tf/notebooks/time-series.csv', \n",
    "    header=0, \n",
    "    index_col=0,    #The first colum is a timestamp that will be used to index all the data.\n",
    "    sep=' ', \n",
    "    skipinitialspace=True\n",
    ")\n",
    "\n",
    "timeseries_dataset"
   ]
  },
  {
   "cell_type": "markdown",
   "metadata": {},
   "source": [
    "## Duplicate the Last Record"
   ]
  },
  {
   "cell_type": "markdown",
   "metadata": {},
   "source": [
    "The reframing process shift each record to the left of the shifting window, producing that the last record of data is ignored at the last prediction. To fix this we will duplicate the last record so that the last prediction belongs to the the last piece of information available."
   ]
  },
  {
   "cell_type": "code",
   "execution_count": 8,
   "metadata": {},
   "outputs": [],
   "source": [
    "values = timeseries_dataset.values"
   ]
  },
  {
   "cell_type": "code",
   "execution_count": 9,
   "metadata": {},
   "outputs": [
    {
     "data": {
      "text/plain": [
       "array([[47053.25   , 46845.98   , 46989.24   , 47021.24   ,  1568.21655]])"
      ]
     },
     "execution_count": 9,
     "metadata": {},
     "output_type": "execute_result"
    }
   ],
   "source": [
    "last_record = values[-1:,:]\n",
    "last_record"
   ]
  },
  {
   "cell_type": "code",
   "execution_count": 10,
   "metadata": {},
   "outputs": [
    {
     "data": {
      "text/plain": [
       "array([[4.31362000e+03, 4.26132000e+03, 4.26148000e+03, 4.30883000e+03,\n",
       "        4.71810090e+01],\n",
       "       [4.32869000e+03, 4.29137000e+03, 4.30883000e+03, 4.31532000e+03,\n",
       "        2.32349160e+01],\n",
       "       [4.34545000e+03, 4.30937000e+03, 4.31532000e+03, 4.32435000e+03,\n",
       "        7.22969100e+00],\n",
       "       ...,\n",
       "       [4.72000000e+04, 4.68848400e+04, 4.69047200e+04, 4.69892400e+04,\n",
       "        2.11994730e+03],\n",
       "       [4.70532500e+04, 4.68459800e+04, 4.69892400e+04, 4.70212400e+04,\n",
       "        1.56821655e+03],\n",
       "       [4.70532500e+04, 4.68459800e+04, 4.69892400e+04, 4.70212400e+04,\n",
       "        1.56821655e+03]])"
      ]
     },
     "execution_count": 10,
     "metadata": {},
     "output_type": "execute_result"
    }
   ],
   "source": [
    "all_records = concatenate((values, last_record), axis=0)\n",
    "all_records"
   ]
  },
  {
   "cell_type": "code",
   "execution_count": 11,
   "metadata": {},
   "outputs": [],
   "source": [
    "# ensure all data is float\n",
    "values = all_records.astype('float32')"
   ]
  },
  {
   "cell_type": "markdown",
   "metadata": {},
   "source": [
    "## Plot & Verify"
   ]
  },
  {
   "cell_type": "markdown",
   "metadata": {},
   "source": [
    "We plot our raw data just to be sure with a glimpse that it is alright."
   ]
  },
  {
   "cell_type": "code",
   "execution_count": 12,
   "metadata": {},
   "outputs": [
    {
     "data": {
      "image/png": "[encoded data removed]",
      "text/plain": [
       "<Figure size 640x480 with 2 Axes>"
      ]
     },
     "metadata": {},
     "output_type": "display_data"
    }
   ],
   "source": [
    "# specify columns to plot\n",
    "groups = [0, 2]\n",
    "i = 1\n",
    "# plot each column\n",
    "pyplot.figure()\n",
    "for group in groups:\n",
    "\tpyplot.subplot(len(groups), 1, i)\n",
    "\tpyplot.plot(values[:, group])\n",
    "\tpyplot.title(timeseries_dataset.columns[group], y=0.5, loc='right')\n",
    "\ti += 1\n",
    "pyplot.show()"
   ]
  },
  {
   "cell_type": "markdown",
   "metadata": {},
   "source": [
    "## Normalization"
   ]
  },
  {
   "cell_type": "markdown",
   "metadata": {},
   "source": [
    "Normalizing or removing the scale, is a standar prodcedure of any machine learning workflow. "
   ]
  },
  {
   "cell_type": "code",
   "execution_count": 13,
   "metadata": {},
   "outputs": [],
   "source": [
    "# normalize features\n",
    "scaler = MinMaxScaler(feature_range=(0, 1))\n",
    "scaled = scaler.fit_transform(values)"
   ]
  },
  {
   "cell_type": "markdown",
   "metadata": {},
   "source": [
    "## Reframing as a Supervised Learning Problem"
   ]
  },
  {
   "cell_type": "markdown",
   "metadata": {},
   "source": [
    "Each Raw record needs to be expanded with the previous records in order to be suitable for beeing fed into a LSTM model. Some fields of the record at time = 0 will be used as labels and the ones at time < 0 as features."
   ]
  },
  {
   "cell_type": "code",
   "execution_count": 14,
   "metadata": {},
   "outputs": [],
   "source": [
    "# frame as supervised learning\n",
    "reframed = series_to_supervised(scaled, NUMBER_OF_LAG_TIMESTEPS, 1)"
   ]
  },
  {
   "cell_type": "code",
   "execution_count": 15,
   "metadata": {},
   "outputs": [
    {
     "data": {
      "text/html": [
       "<div>\n",
       "<style scoped>\n",
       "    .dataframe tbody tr th:only-of-type {\n",
       "        vertical-align: middle;\n",
       "    }\n",
       "\n",
       "    .dataframe tbody tr th {\n",
       "        vertical-align: top;\n",
       "    }\n",
       "\n",
       "    .dataframe thead th {\n",
       "        text-align: right;\n",
       "    }\n",
       "</style>\n",
       "<table border=\"1\" class=\"dataframe\">\n",
       "  <thead>\n",
       "    <tr style=\"text-align: right;\">\n",
       "      <th></th>\n",
       "      <th>var1(t-9)</th>\n",
       "      <th>var2(t-9)</th>\n",
       "      <th>var3(t-9)</th>\n",
       "      <th>var4(t-9)</th>\n",
       "      <th>var5(t-9)</th>\n",
       "      <th>var1(t-8)</th>\n",
       "      <th>var2(t-8)</th>\n",
       "      <th>var3(t-8)</th>\n",
       "      <th>var4(t-8)</th>\n",
       "      <th>var5(t-8)</th>\n",
       "      <th>...</th>\n",
       "      <th>var1(t-1)</th>\n",
       "      <th>var2(t-1)</th>\n",
       "      <th>var3(t-1)</th>\n",
       "      <th>var4(t-1)</th>\n",
       "      <th>var5(t-1)</th>\n",
       "      <th>var1(t)</th>\n",
       "      <th>var2(t)</th>\n",
       "      <th>var3(t)</th>\n",
       "      <th>var4(t)</th>\n",
       "      <th>var5(t)</th>\n",
       "    </tr>\n",
       "  </thead>\n",
       "  <tbody>\n",
       "    <tr>\n",
       "      <th>9</th>\n",
       "      <td>0.020645</td>\n",
       "      <td>0.022006</td>\n",
       "      <td>0.021145</td>\n",
       "      <td>0.021149</td>\n",
       "      <td>0.000998</td>\n",
       "      <td>0.020873</td>\n",
       "      <td>0.022463</td>\n",
       "      <td>0.021865</td>\n",
       "      <td>0.021248</td>\n",
       "      <td>0.000492</td>\n",
       "      <td>...</td>\n",
       "      <td>0.022703</td>\n",
       "      <td>0.024286</td>\n",
       "      <td>0.023666</td>\n",
       "      <td>0.022704</td>\n",
       "      <td>0.000487</td>\n",
       "      <td>0.022846</td>\n",
       "      <td>0.024286</td>\n",
       "      <td>0.023419</td>\n",
       "      <td>0.023435</td>\n",
       "      <td>0.000663</td>\n",
       "    </tr>\n",
       "    <tr>\n",
       "      <th>10</th>\n",
       "      <td>0.020873</td>\n",
       "      <td>0.022463</td>\n",
       "      <td>0.021865</td>\n",
       "      <td>0.021248</td>\n",
       "      <td>0.000492</td>\n",
       "      <td>0.021127</td>\n",
       "      <td>0.022738</td>\n",
       "      <td>0.021964</td>\n",
       "      <td>0.021386</td>\n",
       "      <td>0.000153</td>\n",
       "      <td>...</td>\n",
       "      <td>0.022846</td>\n",
       "      <td>0.024286</td>\n",
       "      <td>0.023419</td>\n",
       "      <td>0.023435</td>\n",
       "      <td>0.000663</td>\n",
       "      <td>0.023246</td>\n",
       "      <td>0.024666</td>\n",
       "      <td>0.024148</td>\n",
       "      <td>0.023615</td>\n",
       "      <td>0.001095</td>\n",
       "    </tr>\n",
       "    <tr>\n",
       "      <th>11</th>\n",
       "      <td>0.021127</td>\n",
       "      <td>0.022738</td>\n",
       "      <td>0.021964</td>\n",
       "      <td>0.021386</td>\n",
       "      <td>0.000153</td>\n",
       "      <td>0.021196</td>\n",
       "      <td>0.022403</td>\n",
       "      <td>0.022101</td>\n",
       "      <td>0.021776</td>\n",
       "      <td>0.000094</td>\n",
       "      <td>...</td>\n",
       "      <td>0.023246</td>\n",
       "      <td>0.024666</td>\n",
       "      <td>0.024148</td>\n",
       "      <td>0.023615</td>\n",
       "      <td>0.001095</td>\n",
       "      <td>0.023025</td>\n",
       "      <td>0.023104</td>\n",
       "      <td>0.024328</td>\n",
       "      <td>0.021812</td>\n",
       "      <td>0.001449</td>\n",
       "    </tr>\n",
       "    <tr>\n",
       "      <th>12</th>\n",
       "      <td>0.021196</td>\n",
       "      <td>0.022403</td>\n",
       "      <td>0.022101</td>\n",
       "      <td>0.021776</td>\n",
       "      <td>0.000094</td>\n",
       "      <td>0.021618</td>\n",
       "      <td>0.023103</td>\n",
       "      <td>0.022237</td>\n",
       "      <td>0.021939</td>\n",
       "      <td>0.000021</td>\n",
       "      <td>...</td>\n",
       "      <td>0.023025</td>\n",
       "      <td>0.023104</td>\n",
       "      <td>0.024328</td>\n",
       "      <td>0.021812</td>\n",
       "      <td>0.001449</td>\n",
       "      <td>0.021262</td>\n",
       "      <td>0.021914</td>\n",
       "      <td>0.022527</td>\n",
       "      <td>0.021840</td>\n",
       "      <td>0.001428</td>\n",
       "    </tr>\n",
       "    <tr>\n",
       "      <th>13</th>\n",
       "      <td>0.021618</td>\n",
       "      <td>0.023103</td>\n",
       "      <td>0.022237</td>\n",
       "      <td>0.021939</td>\n",
       "      <td>0.000021</td>\n",
       "      <td>0.022646</td>\n",
       "      <td>0.023509</td>\n",
       "      <td>0.022654</td>\n",
       "      <td>0.023206</td>\n",
       "      <td>0.000228</td>\n",
       "      <td>...</td>\n",
       "      <td>0.021262</td>\n",
       "      <td>0.021914</td>\n",
       "      <td>0.022527</td>\n",
       "      <td>0.021840</td>\n",
       "      <td>0.001428</td>\n",
       "      <td>0.021269</td>\n",
       "      <td>0.021611</td>\n",
       "      <td>0.022555</td>\n",
       "      <td>0.020851</td>\n",
       "      <td>0.001263</td>\n",
       "    </tr>\n",
       "    <tr>\n",
       "      <th>...</th>\n",
       "      <td>...</td>\n",
       "      <td>...</td>\n",
       "      <td>...</td>\n",
       "      <td>...</td>\n",
       "      <td>...</td>\n",
       "      <td>...</td>\n",
       "      <td>...</td>\n",
       "      <td>...</td>\n",
       "      <td>...</td>\n",
       "      <td>...</td>\n",
       "      <td>...</td>\n",
       "      <td>...</td>\n",
       "      <td>...</td>\n",
       "      <td>...</td>\n",
       "      <td>...</td>\n",
       "      <td>...</td>\n",
       "      <td>...</td>\n",
       "      <td>...</td>\n",
       "      <td>...</td>\n",
       "      <td>...</td>\n",
       "      <td>...</td>\n",
       "    </tr>\n",
       "    <tr>\n",
       "      <th>40417</th>\n",
       "      <td>0.661107</td>\n",
       "      <td>0.637794</td>\n",
       "      <td>0.638033</td>\n",
       "      <td>0.657339</td>\n",
       "      <td>0.202918</td>\n",
       "      <td>0.663891</td>\n",
       "      <td>0.655469</td>\n",
       "      <td>0.657575</td>\n",
       "      <td>0.663978</td>\n",
       "      <td>0.100338</td>\n",
       "      <td>...</td>\n",
       "      <td>0.670233</td>\n",
       "      <td>0.671105</td>\n",
       "      <td>0.671771</td>\n",
       "      <td>0.672693</td>\n",
       "      <td>0.029850</td>\n",
       "      <td>0.672551</td>\n",
       "      <td>0.673344</td>\n",
       "      <td>0.672918</td>\n",
       "      <td>0.671649</td>\n",
       "      <td>0.099857</td>\n",
       "    </tr>\n",
       "    <tr>\n",
       "      <th>40418</th>\n",
       "      <td>0.663891</td>\n",
       "      <td>0.655469</td>\n",
       "      <td>0.657575</td>\n",
       "      <td>0.663978</td>\n",
       "      <td>0.100338</td>\n",
       "      <td>0.666904</td>\n",
       "      <td>0.663389</td>\n",
       "      <td>0.664209</td>\n",
       "      <td>0.664905</td>\n",
       "      <td>0.132034</td>\n",
       "      <td>...</td>\n",
       "      <td>0.672551</td>\n",
       "      <td>0.673344</td>\n",
       "      <td>0.672918</td>\n",
       "      <td>0.671649</td>\n",
       "      <td>0.099857</td>\n",
       "      <td>0.668527</td>\n",
       "      <td>0.668856</td>\n",
       "      <td>0.671874</td>\n",
       "      <td>0.669344</td>\n",
       "      <td>0.079655</td>\n",
       "    </tr>\n",
       "    <tr>\n",
       "      <th>40419</th>\n",
       "      <td>0.666904</td>\n",
       "      <td>0.663389</td>\n",
       "      <td>0.664209</td>\n",
       "      <td>0.664905</td>\n",
       "      <td>0.132034</td>\n",
       "      <td>0.665070</td>\n",
       "      <td>0.666460</td>\n",
       "      <td>0.665135</td>\n",
       "      <td>0.668173</td>\n",
       "      <td>0.040316</td>\n",
       "      <td>...</td>\n",
       "      <td>0.668527</td>\n",
       "      <td>0.668856</td>\n",
       "      <td>0.671874</td>\n",
       "      <td>0.669344</td>\n",
       "      <td>0.079655</td>\n",
       "      <td>0.669947</td>\n",
       "      <td>0.671416</td>\n",
       "      <td>0.669571</td>\n",
       "      <td>0.670630</td>\n",
       "      <td>0.044861</td>\n",
       "    </tr>\n",
       "    <tr>\n",
       "      <th>40420</th>\n",
       "      <td>0.665070</td>\n",
       "      <td>0.666460</td>\n",
       "      <td>0.665135</td>\n",
       "      <td>0.668173</td>\n",
       "      <td>0.040316</td>\n",
       "      <td>0.676760</td>\n",
       "      <td>0.668045</td>\n",
       "      <td>0.668401</td>\n",
       "      <td>0.669591</td>\n",
       "      <td>0.129738</td>\n",
       "      <td>...</td>\n",
       "      <td>0.669947</td>\n",
       "      <td>0.671416</td>\n",
       "      <td>0.669571</td>\n",
       "      <td>0.670630</td>\n",
       "      <td>0.044861</td>\n",
       "      <td>0.667725</td>\n",
       "      <td>0.670824</td>\n",
       "      <td>0.670856</td>\n",
       "      <td>0.671117</td>\n",
       "      <td>0.033186</td>\n",
       "    </tr>\n",
       "    <tr>\n",
       "      <th>40421</th>\n",
       "      <td>0.676760</td>\n",
       "      <td>0.668045</td>\n",
       "      <td>0.668401</td>\n",
       "      <td>0.669591</td>\n",
       "      <td>0.129738</td>\n",
       "      <td>0.667486</td>\n",
       "      <td>0.668600</td>\n",
       "      <td>0.669819</td>\n",
       "      <td>0.667910</td>\n",
       "      <td>0.036835</td>\n",
       "      <td>...</td>\n",
       "      <td>0.667725</td>\n",
       "      <td>0.670824</td>\n",
       "      <td>0.670856</td>\n",
       "      <td>0.671117</td>\n",
       "      <td>0.033186</td>\n",
       "      <td>0.667725</td>\n",
       "      <td>0.670824</td>\n",
       "      <td>0.670856</td>\n",
       "      <td>0.671117</td>\n",
       "      <td>0.033186</td>\n",
       "    </tr>\n",
       "  </tbody>\n",
       "</table>\n",
       "<p>40413 rows × 50 columns</p>\n",
       "</div>"
      ],
      "text/plain": [
       "       var1(t-9)  var2(t-9)  var3(t-9)  var4(t-9)  var5(t-9)  var1(t-8)  \\\n",
       "9       0.020645   0.022006   0.021145   0.021149   0.000998   0.020873   \n",
       "10      0.020873   0.022463   0.021865   0.021248   0.000492   0.021127   \n",
       "11      0.021127   0.022738   0.021964   0.021386   0.000153   0.021196   \n",
       "12      0.021196   0.022403   0.022101   0.021776   0.000094   0.021618   \n",
       "13      0.021618   0.023103   0.022237   0.021939   0.000021   0.022646   \n",
       "...          ...        ...        ...        ...        ...        ...   \n",
       "40417   0.661107   0.637794   0.638033   0.657339   0.202918   0.663891   \n",
       "40418   0.663891   0.655469   0.657575   0.663978   0.100338   0.666904   \n",
       "40419   0.666904   0.663389   0.664209   0.664905   0.132034   0.665070   \n",
       "40420   0.665070   0.666460   0.665135   0.668173   0.040316   0.676760   \n",
       "40421   0.676760   0.668045   0.668401   0.669591   0.129738   0.667486   \n",
       "\n",
       "       var2(t-8)  var3(t-8)  var4(t-8)  var5(t-8)  ...  var1(t-1)  var2(t-1)  \\\n",
       "9       0.022463   0.021865   0.021248   0.000492  ...   0.022703   0.024286   \n",
       "10      0.022738   0.021964   0.021386   0.000153  ...   0.022846   0.024286   \n",
       "11      0.022403   0.022101   0.021776   0.000094  ...   0.023246   0.024666   \n",
       "12      0.023103   0.022237   0.021939   0.000021  ...   0.023025   0.023104   \n",
       "13      0.023509   0.022654   0.023206   0.000228  ...   0.021262   0.021914   \n",
       "...          ...        ...        ...        ...  ...        ...        ...   \n",
       "40417   0.655469   0.657575   0.663978   0.100338  ...   0.670233   0.671105   \n",
       "40418   0.663389   0.664209   0.664905   0.132034  ...   0.672551   0.673344   \n",
       "40419   0.666460   0.665135   0.668173   0.040316  ...   0.668527   0.668856   \n",
       "40420   0.668045   0.668401   0.669591   0.129738  ...   0.669947   0.671416   \n",
       "40421   0.668600   0.669819   0.667910   0.036835  ...   0.667725   0.670824   \n",
       "\n",
       "       var3(t-1)  var4(t-1)  var5(t-1)   var1(t)   var2(t)   var3(t)  \\\n",
       "9       0.023666   0.022704   0.000487  0.022846  0.024286  0.023419   \n",
       "10      0.023419   0.023435   0.000663  0.023246  0.024666  0.024148   \n",
       "11      0.024148   0.023615   0.001095  0.023025  0.023104  0.024328   \n",
       "12      0.024328   0.021812   0.001449  0.021262  0.021914  0.022527   \n",
       "13      0.022527   0.021840   0.001428  0.021269  0.021611  0.022555   \n",
       "...          ...        ...        ...       ...       ...       ...   \n",
       "40417   0.671771   0.672693   0.029850  0.672551  0.673344  0.672918   \n",
       "40418   0.672918   0.671649   0.099857  0.668527  0.668856  0.671874   \n",
       "40419   0.671874   0.669344   0.079655  0.669947  0.671416  0.669571   \n",
       "40420   0.669571   0.670630   0.044861  0.667725  0.670824  0.670856   \n",
       "40421   0.670856   0.671117   0.033186  0.667725  0.670824  0.670856   \n",
       "\n",
       "        var4(t)   var5(t)  \n",
       "9      0.023435  0.000663  \n",
       "10     0.023615  0.001095  \n",
       "11     0.021812  0.001449  \n",
       "12     0.021840  0.001428  \n",
       "13     0.020851  0.001263  \n",
       "...         ...       ...  \n",
       "40417  0.671649  0.099857  \n",
       "40418  0.669344  0.079655  \n",
       "40419  0.670630  0.044861  \n",
       "40420  0.671117  0.033186  \n",
       "40421  0.671117  0.033186  \n",
       "\n",
       "[40413 rows x 50 columns]"
      ]
     },
     "execution_count": 15,
     "metadata": {},
     "output_type": "execute_result"
    }
   ],
   "source": [
    "reframed"
   ]
  },
  {
   "cell_type": "markdown",
   "metadata": {},
   "source": [
    "## Train and Test Dataset Preparation"
   ]
  },
  {
   "cell_type": "markdown",
   "metadata": {},
   "source": [
    "The first part of the dataset will be used to train the model. The last part for calculating the prediction error. Later we will generate the predictions for the test dataset and measure how accurate they were."
   ]
  },
  {
   "cell_type": "code",
   "execution_count": 16,
   "metadata": {},
   "outputs": [
    {
     "data": {
      "text/plain": [
       "32330"
      ]
     },
     "execution_count": 16,
     "metadata": {},
     "output_type": "execute_result"
    }
   ],
   "source": [
    "# get values from reframed dataset\n",
    "values = reframed.values\n",
    "record_count = len(values)\n",
    "records_for_training = int(record_count * PERCENTAGE_OF_DATASET_FOR_TRAINING / 100)\n",
    "records_for_training"
   ]
  },
  {
   "cell_type": "code",
   "execution_count": 17,
   "metadata": {},
   "outputs": [],
   "source": [
    "# split into train and test sets\n",
    "train = values[:records_for_training, :]\n",
    "test = values[records_for_training:, :]"
   ]
  },
  {
   "cell_type": "code",
   "execution_count": 18,
   "metadata": {},
   "outputs": [
    {
     "data": {
      "text/plain": [
       "(32330, 50)"
      ]
     },
     "execution_count": 18,
     "metadata": {},
     "output_type": "execute_result"
    }
   ],
   "source": [
    "train.shape"
   ]
  },
  {
   "cell_type": "code",
   "execution_count": 19,
   "metadata": {},
   "outputs": [
    {
     "data": {
      "text/plain": [
       "(8083, 50)"
      ]
     },
     "execution_count": 19,
     "metadata": {},
     "output_type": "execute_result"
    }
   ],
   "source": [
    "test.shape"
   ]
  },
  {
   "cell_type": "markdown",
   "metadata": {},
   "source": [
    "## Split into Input and Outputs"
   ]
  },
  {
   "cell_type": "markdown",
   "metadata": {},
   "source": [
    "Here we will split both the Train and the Test datasets into features and labels. \n",
    "Features will be all the information where time < 0. For the labels, we will pick only the first 2 fields of each set of indicator properties, which we expect them to contain the Candle Max and Candle Min for each Asset."
   ]
  },
  {
   "cell_type": "code",
   "execution_count": 20,
   "metadata": {},
   "outputs": [],
   "source": [
    "# split into input and outputs\n",
    "n_obs = NUMBER_OF_LAG_TIMESTEPS * NUMBER_OF_FEATURES\n",
    "\n",
    "train_X = train[:, :n_obs]\n",
    "train_y = train[:, -NUMBER_OF_FEATURES:-(NUMBER_OF_FEATURES-NUMBER_OF_LABELS)]\n",
    "\n",
    "test_X = test[:, :n_obs]\n",
    "test_y = test[:, -NUMBER_OF_FEATURES:-(NUMBER_OF_FEATURES-NUMBER_OF_LABELS)]"
   ]
  },
  {
   "cell_type": "code",
   "execution_count": 21,
   "metadata": {},
   "outputs": [
    {
     "data": {
      "text/plain": [
       "array([[2.0645272e-02, 2.2005606e-02, 2.1144930e-02, ..., 2.3666363e-02,\n",
       "        2.2704210e-02, 4.8739873e-04],\n",
       "       [2.0873431e-02, 2.2463445e-02, 2.1864932e-02, ..., 2.3418512e-02,\n",
       "        2.3434643e-02, 6.6261622e-04],\n",
       "       [2.1127176e-02, 2.2737693e-02, 2.1963615e-02, ..., 2.4148393e-02,\n",
       "        2.3614507e-02, 1.0948061e-03],\n",
       "       ...,\n",
       "       [7.1735293e-01, 7.1278405e-01, 7.2103208e-01, ..., 7.0659775e-01,\n",
       "        7.0960891e-01, 3.9517116e-02],\n",
       "       [7.0787340e-01, 7.1278769e-01, 7.1096200e-01, ..., 7.0980603e-01,\n",
       "        7.1430814e-01, 5.1062260e-02],\n",
       "       [7.0755398e-01, 7.1406299e-01, 7.1183151e-01, ..., 7.1452701e-01,\n",
       "        7.1451163e-01, 6.2090937e-02]], dtype=float32)"
      ]
     },
     "execution_count": 21,
     "metadata": {},
     "output_type": "execute_result"
    }
   ],
   "source": [
    "train_X"
   ]
  },
  {
   "cell_type": "code",
   "execution_count": 22,
   "metadata": {},
   "outputs": [
    {
     "data": {
      "text/plain": [
       "array([[0.02284633, 0.02428612, 0.02341851],\n",
       "       [0.02324587, 0.02466596, 0.02414839],\n",
       "       [0.02302528, 0.02310412, 0.02432812],\n",
       "       ...,\n",
       "       [0.7119553 , 0.71049863, 0.709806  ],\n",
       "       [0.7147231 , 0.7150694 , 0.714527  ],\n",
       "       [0.7199092 , 0.71430767, 0.71470475]], dtype=float32)"
      ]
     },
     "execution_count": 22,
     "metadata": {},
     "output_type": "execute_result"
    }
   ],
   "source": [
    "train_y"
   ]
  },
  {
   "cell_type": "markdown",
   "metadata": {},
   "source": [
    "## Reshape Inputs to fit LSTM type of Network"
   ]
  },
  {
   "cell_type": "markdown",
   "metadata": {},
   "source": [
    "This type of Network Architecture requires the features to be in a 3D shape."
   ]
  },
  {
   "cell_type": "code",
   "execution_count": 23,
   "metadata": {},
   "outputs": [],
   "source": [
    "# reshape input to be 3D [samples, timesteps, features]\n",
    "train_X = train_X.reshape((train_X.shape[0], NUMBER_OF_LAG_TIMESTEPS, NUMBER_OF_FEATURES))\n",
    "test_X = test_X.reshape((test_X.shape[0], NUMBER_OF_LAG_TIMESTEPS, NUMBER_OF_FEATURES))"
   ]
  },
  {
   "cell_type": "markdown",
   "metadata": {},
   "source": [
    "## Network Architecture"
   ]
  },
  {
   "cell_type": "markdown",
   "metadata": {},
   "source": [
    "Here we are using an LSTM architecture for our neural network. This is the type of architecture usually used for problems involving time-series."
   ]
  },
  {
   "cell_type": "code",
   "execution_count": 24,
   "metadata": {},
   "outputs": [],
   "source": [
    "if ACTION_TO_TAKE == \"LOAD_MODEL_AND_PREDICT\":\n",
    "    model = load_model('/tf/notebooks/models/' + MODEL_FILE_NAME)\n",
    "\n",
    "if ACTION_TO_TAKE == \"BUILD_AND_SAVE_MODEL\":\n",
    "    # design the network\n",
    "    model = Sequential()\n",
    "    model.add(LSTM(NUMBER_OF_LSTM_NEURONS, input_shape=(train_X.shape[1], train_X.shape[2])))\n",
    "    model.add(Dense(NUMBER_OF_LABELS))\n",
    "    model.compile(loss='mae', optimizer='adam')"
   ]
  },
  {
   "cell_type": "markdown",
   "metadata": {},
   "source": [
    "## Fit the Model"
   ]
  },
  {
   "cell_type": "markdown",
   "metadata": {},
   "source": [
    "We print this output so that the caller program can get the results in a JSON object."
   ]
  },
  {
   "cell_type": "code",
   "execution_count": 25,
   "metadata": {},
   "outputs": [
    {
     "name": "stdout",
     "output_type": "stream",
     "text": [
      "{\n",
      "\"trainingOutput\": \"\n"
     ]
    }
   ],
   "source": [
    "print('{')\n",
    "print('\"trainingOutput\": \"')"
   ]
  },
  {
   "cell_type": "markdown",
   "metadata": {},
   "source": [
    "This is the actual process of training the neural network. "
   ]
  },
  {
   "cell_type": "code",
   "execution_count": 26,
   "metadata": {
    "scrolled": true
   },
   "outputs": [],
   "source": [
    "if ACTION_TO_TAKE == \"BUILD_AND_SAVE_MODEL\":\n",
    "    # fit network\n",
    "    history = model.fit(\n",
    "        train_X, \n",
    "        train_y, \n",
    "        epochs=NUMBER_OF_EPOCHS, \n",
    "        batch_size=72, \n",
    "        validation_data=(test_X, test_y), \n",
    "        verbose=2, \n",
    "        shuffle=False\n",
    "    )         "
   ]
  },
  {
   "cell_type": "code",
   "execution_count": 27,
   "metadata": {},
   "outputs": [
    {
     "name": "stdout",
     "output_type": "stream",
     "text": [
      "\"\n"
     ]
    }
   ],
   "source": [
    "print('\"')"
   ]
  },
  {
   "cell_type": "markdown",
   "metadata": {},
   "source": [
    "## Save the Model"
   ]
  },
  {
   "cell_type": "code",
   "execution_count": 28,
   "metadata": {},
   "outputs": [],
   "source": [
    "if ACTION_TO_TAKE == \"BUILD_AND_SAVE_MODEL\":\n",
    "    # dave the entire model\n",
    "    model.save('/tf/notebooks/models/' + MODEL_FILE_NAME)"
   ]
  },
  {
   "cell_type": "markdown",
   "metadata": {},
   "source": [
    "## Plot Fitting History"
   ]
  },
  {
   "cell_type": "code",
   "execution_count": 29,
   "metadata": {},
   "outputs": [],
   "source": [
    "if ACTION_TO_TAKE == \"BUILD_AND_SAVE_MODEL\":\n",
    "    # plot history\n",
    "    pyplot.plot(history.history['loss'], label='train')\n",
    "    pyplot.plot(history.history['val_loss'], label='test')\n",
    "    pyplot.legend()\n",
    "    pyplot.show()"
   ]
  },
  {
   "cell_type": "markdown",
   "metadata": {},
   "source": [
    "## Batch Prediction of all Test Records"
   ]
  },
  {
   "cell_type": "markdown",
   "metadata": {},
   "source": [
    "Here we take all Test Records and get a prediction for each one of them. "
   ]
  },
  {
   "cell_type": "code",
   "execution_count": 30,
   "metadata": {},
   "outputs": [],
   "source": [
    "# make a prediction\n",
    "yhat = model.predict(test_X)\n",
    "test_X = test_X.reshape((test_X.shape[0], NUMBER_OF_LAG_TIMESTEPS*NUMBER_OF_FEATURES))"
   ]
  },
  {
   "cell_type": "code",
   "execution_count": 31,
   "metadata": {},
   "outputs": [
    {
     "data": {
      "text/plain": [
       "array([[0.7463217 , 0.7425063 , 0.7618598 ],\n",
       "       [0.74774474, 0.74432   , 0.76341444],\n",
       "       [0.74881595, 0.7451773 , 0.76438785],\n",
       "       ...,\n",
       "       [0.7180586 , 0.711705  , 0.7296703 ],\n",
       "       [0.71827245, 0.7122372 , 0.73024595],\n",
       "       [0.7184125 , 0.7120944 , 0.73030937]], dtype=float32)"
      ]
     },
     "execution_count": 31,
     "metadata": {},
     "output_type": "execute_result"
    }
   ],
   "source": [
    "yhat"
   ]
  },
  {
   "cell_type": "markdown",
   "metadata": {},
   "source": [
    "## Reversing Normalization\n",
    "\n",
    "For inverting the scale (denormalize) of a test record, we need first to unframe the test_X values so as the get the original record. Since the label was the first colum of the record, we concatenate the prediction to the last columns of the framed record."
   ]
  },
  {
   "cell_type": "code",
   "execution_count": 32,
   "metadata": {},
   "outputs": [
    {
     "data": {
      "text/plain": [
       "array([[52244.547, 51550.797, 52974.01 ],\n",
       "       [52338.54 , 51669.836, 53076.254],\n",
       "       [52409.293, 51726.105, 53140.27 ],\n",
       "       ...,\n",
       "       [50377.77 , 49529.18 , 50857.098],\n",
       "       [50391.895, 49564.105, 50894.953],\n",
       "       [50401.15 , 49554.74 , 50899.125]], dtype=float32)"
      ]
     },
     "execution_count": 32,
     "metadata": {},
     "output_type": "execute_result"
    }
   ],
   "source": [
    "# invert scaling for forecast\n",
    "inv_yhat = concatenate((yhat, test_X[:, -(NUMBER_OF_FEATURES - NUMBER_OF_LABELS):]), axis=1)\n",
    "inv_yhat = scaler.inverse_transform(inv_yhat)\n",
    "inv_yhat = inv_yhat[:,:NUMBER_OF_LABELS]\n",
    "inv_yhat"
   ]
  },
  {
   "cell_type": "code",
   "execution_count": 33,
   "metadata": {
    "scrolled": true
   },
   "outputs": [
    {
     "data": {
      "text/plain": [
       "array([[50567.91, 50191.26, 50335.67],\n",
       "       [50395.49, 50043.28, 50257.97],\n",
       "       [50434.  , 49768.17, 50395.49],\n",
       "       ...,\n",
       "       [47200.  , 46884.84, 46904.72],\n",
       "       [47053.25, 46845.98, 46989.24],\n",
       "       [47053.25, 46845.98, 46989.24]], dtype=float32)"
      ]
     },
     "execution_count": 33,
     "metadata": {},
     "output_type": "execute_result"
    }
   ],
   "source": [
    "# invert scaling for actual\n",
    "inv_y = concatenate((test_y, test_X[:, -(NUMBER_OF_FEATURES - NUMBER_OF_LABELS):]), axis=1)\n",
    "inv_y = scaler.inverse_transform(inv_y)\n",
    "inv_y = inv_y[:,:NUMBER_OF_LABELS]\n",
    "inv_y"
   ]
  },
  {
   "cell_type": "markdown",
   "metadata": {},
   "source": [
    "## Error Calculations"
   ]
  },
  {
   "cell_type": "markdown",
   "metadata": {},
   "source": [
    "### Main Error Value"
   ]
  },
  {
   "cell_type": "code",
   "execution_count": 34,
   "metadata": {},
   "outputs": [],
   "source": [
    "# calculate RMSE\n",
    "rmse = sqrt(mean_squared_error(inv_y, inv_yhat))"
   ]
  },
  {
   "cell_type": "markdown",
   "metadata": {},
   "source": [
    "This is the main value we use to know how much error there is. We need this value to go as down as possible."
   ]
  },
  {
   "cell_type": "markdown",
   "metadata": {},
   "source": [
    "### Alternative Error Analisys"
   ]
  },
  {
   "cell_type": "code",
   "execution_count": 35,
   "metadata": {},
   "outputs": [
    {
     "data": {
      "text/plain": [
       "array([[3.31, 2.7 , 5.24],\n",
       "       [3.85, 3.25, 5.6 ],\n",
       "       [3.91, 3.93, 5.44],\n",
       "       ...,\n",
       "       [6.73, 5.64, 8.42],\n",
       "       [7.09, 5.8 , 8.31],\n",
       "       [7.11, 5.78, 8.32]])"
      ]
     },
     "execution_count": 35,
     "metadata": {},
     "output_type": "execute_result"
    }
   ],
   "source": [
    "# my way to calculating Errors\n",
    "errors = (inv_yhat - inv_y) / inv_y * 10000\n",
    "errors = errors.astype('int') / 100\n",
    "errors"
   ]
  },
  {
   "cell_type": "markdown",
   "metadata": {},
   "source": [
    "### Plot of the % of Error of each Predicted Value "
   ]
  },
  {
   "cell_type": "code",
   "execution_count": 36,
   "metadata": {},
   "outputs": [
    {
     "data": {
      "image/png": "[encoded data removed]",
      "text/plain": [
       "<Figure size 640x480 with 1 Axes>"
      ]
     },
     "metadata": {},
     "output_type": "display_data"
    }
   ],
   "source": [
    "# plot errors\n",
    "pyplot.plot(errors)\n",
    "pyplot.show()"
   ]
  },
  {
   "cell_type": "markdown",
   "metadata": {},
   "source": [
    "### Dollar Difference Between Prediction and Actual Value"
   ]
  },
  {
   "cell_type": "markdown",
   "metadata": {},
   "source": [
    "In the context of the Test dataset, this is what we get if we substract the Actual Value to the Predicted Value."
   ]
  },
  {
   "cell_type": "code",
   "execution_count": 37,
   "metadata": {},
   "outputs": [
    {
     "data": {
      "text/plain": [
       "array([[1676.6367, 1359.5352, 2638.3398],\n",
       "       [1943.0508, 1626.5547, 2818.2852],\n",
       "       [1975.293 , 1957.9336, 2744.7812],\n",
       "       ...,\n",
       "       [3177.7695, 2644.3398, 3952.379 ],\n",
       "       [3338.6445, 2718.125 , 3905.7148],\n",
       "       [3347.8984, 2708.7578, 3909.8867]], dtype=float32)"
      ]
     },
     "execution_count": 37,
     "metadata": {},
     "output_type": "execute_result"
    }
   ],
   "source": [
    "diff = (inv_yhat - inv_y) \n",
    "diff = diff.astype('float32')\n",
    "diff"
   ]
  },
  {
   "cell_type": "markdown",
   "metadata": {},
   "source": [
    "## Returning Predictions & Errors"
   ]
  },
  {
   "cell_type": "markdown",
   "metadata": {},
   "source": [
    "Here we are returning the predictions to the caller program. Only the last row of predictions are needed because they belong to the latest closed candle. "
   ]
  },
  {
   "cell_type": "code",
   "execution_count": 38,
   "metadata": {},
   "outputs": [
    {
     "name": "stdout",
     "output_type": "stream",
     "text": [
      ",\"predictions\": \" [50401.15  49554.74  50899.125] \"\n"
     ]
    }
   ],
   "source": [
    "print(',\"predictions\": \"', inv_yhat[-1], '\"' )"
   ]
  },
  {
   "cell_type": "code",
   "execution_count": 39,
   "metadata": {},
   "outputs": [
    {
     "name": "stdout",
     "output_type": "stream",
     "text": [
      ",\"errorRMSE\": 4114.664\n",
      "}\n"
     ]
    }
   ],
   "source": [
    "print(',\"errorRMSE\": %.3f' % rmse)\n",
    "print('}')"
   ]
  },
  {
   "cell_type": "markdown",
   "metadata": {},
   "source": [
    "##### "
   ]
  },
  {
   "cell_type": "markdown",
   "metadata": {},
   "source": [
    "###### "
   ]
  }
 ],
 "metadata": {
  "colab": {
   "collapsed_sections": [],
   "name": "Copy of csv.ipynb",
   "provenance": [],
   "toc_visible": true
  },
  "kernelspec": {
   "display_name": "Python 3",
   "language": "python",
   "name": "python3"
  },
  "language_info": {
   "codemirror_mode": {
    "name": "ipython",
    "version": 3
   },
   "file_extension": ".py",
   "mimetype": "text/x-python",
   "name": "python",
   "nbconvert_exporter": "python",
   "pygments_lexer": "ipython3",
   "version": "3.8.10"
  }
 },
 "nbformat": 4,
 "nbformat_minor": 1
}
