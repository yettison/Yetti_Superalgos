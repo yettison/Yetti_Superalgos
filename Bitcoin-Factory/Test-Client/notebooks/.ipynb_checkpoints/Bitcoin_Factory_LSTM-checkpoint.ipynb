{
 "cells": [
  {
   "cell_type": "markdown",
   "metadata": {
    "id": "DweYe9FcbMK_"
   },
   "source": [
    "##### Bitcoin Factory Machine Learning\n"
   ]
  },
  {
   "cell_type": "markdown",
   "metadata": {},
   "source": [
    "# Multivariate Time Series Forecasting with LSTMs in Keras"
   ]
  },
  {
   "cell_type": "markdown",
   "metadata": {
    "id": "sUtoed20cRJJ"
   },
   "source": [
    "## Time Series Forcasting - Multiple Lag Timesteps - Multiple Labels"
   ]
  },
  {
   "cell_type": "markdown",
   "metadata": {},
   "source": [
    "Based on Tutorial from https://machinelearningmastery.com/multivariate-time-series-forecasting-lstms-keras/"
   ]
  },
  {
   "cell_type": "markdown",
   "metadata": {},
   "source": [
    "# Strategy"
   ]
  },
  {
   "cell_type": "markdown",
   "metadata": {},
   "source": [
    "The strategy is to predict the Candle.Max and Candle.Min of a set of Crypto Assets at the highest timeframe possible, in order to use the prediction to pick the one with higher % of predicted increase in price to take a position in it before that happens."
   ]
  },
  {
   "cell_type": "markdown",
   "metadata": {},
   "source": [
    "# Code to Run"
   ]
  },
  {
   "cell_type": "markdown",
   "metadata": {},
   "source": [
    "## Libraries Used"
   ]
  },
  {
   "cell_type": "code",
   "execution_count": 1,
   "metadata": {},
   "outputs": [],
   "source": [
    "\n",
    "from math import sqrt\n",
    "from numpy import concatenate\n",
    "from matplotlib import pyplot\n",
    "from pandas import read_csv\n",
    "from pandas import DataFrame\n",
    "from pandas import concat\n",
    "from sklearn.preprocessing import MinMaxScaler\n",
    "from sklearn.preprocessing import LabelEncoder\n",
    "from sklearn.metrics import mean_squared_error\n",
    "from keras.models import Sequential\n",
    "from keras.layers import Dense\n",
    "from keras.layers import LSTM"
   ]
  },
  {
   "cell_type": "markdown",
   "metadata": {},
   "source": [
    "## Functions Used"
   ]
  },
  {
   "cell_type": "code",
   "execution_count": 2,
   "metadata": {},
   "outputs": [],
   "source": [
    "# convert series to supervised learning\n",
    "def series_to_supervised(data, n_in=1, n_out=1, dropnan=True):\n",
    "\tn_vars = 1 if type(data) is list else data.shape[1]\n",
    "\tdf = DataFrame(data)\n",
    "\tcols, names = list(), list()\n",
    "\t# input sequence (t-n, ... t-1)\n",
    "\tfor i in range(n_in, 0, -1):\n",
    "\t\tcols.append(df.shift(i))\n",
    "\t\tnames += [('var%d(t-%d)' % (j+1, i)) for j in range(n_vars)]\n",
    "\t# forecast sequence (t, t+1, ... t+n)\n",
    "\tfor i in range(0, n_out):\n",
    "\t\tcols.append(df.shift(-i))\n",
    "\t\tif i == 0:\n",
    "\t\t\tnames += [('var%d(t)' % (j+1)) for j in range(n_vars)]\n",
    "\t\telse:\n",
    "\t\t\tnames += [('var%d(t+%d)' % (j+1, i)) for j in range(n_vars)]\n",
    "\t# put it all together\n",
    "\tagg = concat(cols, axis=1)\n",
    "\tagg.columns = names\n",
    "\t# drop rows with NaN values\n",
    "\tif dropnan:\n",
    "\t\tagg.dropna(inplace=True)\n",
    "\treturn agg \n",
    " "
   ]
  },
  {
   "cell_type": "markdown",
   "metadata": {},
   "source": [
    "## Load the Parameters Dataset\n"
   ]
  },
  {
   "cell_type": "code",
   "execution_count": 3,
   "metadata": {},
   "outputs": [
    {
     "name": "stderr",
     "output_type": "stream",
     "text": [
      "<ipython-input-3-ddcdc2febd88>:1: FutureWarning: The error_bad_lines argument has been deprecated and will be removed in a future version. Use on_bad_lines in the future.\n",
      "\n",
      "\n",
      "  parameters_dataset = read_csv(\n",
      "<ipython-input-3-ddcdc2febd88>:1: FutureWarning: The warn_bad_lines argument has been deprecated and will be removed in a future version. Use on_bad_lines in the future.\n",
      "\n",
      "\n",
      "  parameters_dataset = read_csv(\n"
     ]
    },
    {
     "data": {
      "text/html": [
       "<div>\n",
       "<style scoped>\n",
       "    .dataframe tbody tr th:only-of-type {\n",
       "        vertical-align: middle;\n",
       "    }\n",
       "\n",
       "    .dataframe tbody tr th {\n",
       "        vertical-align: top;\n",
       "    }\n",
       "\n",
       "    .dataframe thead th {\n",
       "        text-align: right;\n",
       "    }\n",
       "</style>\n",
       "<table border=\"1\" class=\"dataframe\">\n",
       "  <thead>\n",
       "    <tr style=\"text-align: right;\">\n",
       "      <th></th>\n",
       "      <th>LIST_OF_ASSETS</th>\n",
       "      <th>LIST_OF_TIMEFRAMES</th>\n",
       "      <th>NUMBER_OF_INDICATORS_PROPERTIES</th>\n",
       "      <th>NUMBER_OF_LAG_TIMESTEPS</th>\n",
       "      <th>NUMBER_OF_ASSETS</th>\n",
       "      <th>NUMBER_OF_LABELS</th>\n",
       "      <th>PERCENTAGE_OF_DATASET_FOR_TRAINING</th>\n",
       "      <th>NUMBER_OF_FEATURES</th>\n",
       "      <th>NUMBER_OF_EPOCHS</th>\n",
       "      <th>NUMBER_OF_LSTM_NEURONS</th>\n",
       "      <th>...</th>\n",
       "      <th>ZEUS_DMI_DMI_DMI_ADX</th>\n",
       "      <th>ZEUS_DMI_DMI_DMI_MINUSDI</th>\n",
       "      <th>ZEUS_DMI_DMI_DMI_PLUSDI</th>\n",
       "      <th>QUANTUM_HARSI_HARSI_HARSI_STOCHD</th>\n",
       "      <th>QUANTUM_HARSI_HARSI_HARSI_STOCHK</th>\n",
       "      <th>QUANTUM_HARSI_HARSI_HARSI_HAMIN</th>\n",
       "      <th>QUANTUM_HARSI_HARSI_HARSI_HAMAX</th>\n",
       "      <th>QUANTUM_HARSI_HARSI_HARSI_HACLOSE</th>\n",
       "      <th>QUANTUM_HARSI_HARSI_HARSI_HAOPEN</th>\n",
       "      <th>QUANTUM_HARSI_HARSI_HARSI_RSI</th>\n",
       "    </tr>\n",
       "  </thead>\n",
       "  <tbody>\n",
       "    <tr>\n",
       "      <th>0</th>\n",
       "      <td>BTC</td>\n",
       "      <td>01-hs</td>\n",
       "      <td>15</td>\n",
       "      <td>10</td>\n",
       "      <td>1</td>\n",
       "      <td>3</td>\n",
       "      <td>80</td>\n",
       "      <td>15</td>\n",
       "      <td>750</td>\n",
       "      <td>50</td>\n",
       "      <td>...</td>\n",
       "      <td>NaN</td>\n",
       "      <td>NaN</td>\n",
       "      <td>NaN</td>\n",
       "      <td>NaN</td>\n",
       "      <td>NaN</td>\n",
       "      <td>NaN</td>\n",
       "      <td>NaN</td>\n",
       "      <td>NaN</td>\n",
       "      <td>NaN</td>\n",
       "      <td>NaN</td>\n",
       "    </tr>\n",
       "  </tbody>\n",
       "</table>\n",
       "<p>1 rows × 797 columns</p>\n",
       "</div>"
      ],
      "text/plain": [
       "  LIST_OF_ASSETS LIST_OF_TIMEFRAMES  NUMBER_OF_INDICATORS_PROPERTIES  \\\n",
       "0            BTC              01-hs                               15   \n",
       "\n",
       "   NUMBER_OF_LAG_TIMESTEPS  NUMBER_OF_ASSETS  NUMBER_OF_LABELS  \\\n",
       "0                       10                 1                 3   \n",
       "\n",
       "   PERCENTAGE_OF_DATASET_FOR_TRAINING  NUMBER_OF_FEATURES  NUMBER_OF_EPOCHS  \\\n",
       "0                                  80                  15               750   \n",
       "\n",
       "   NUMBER_OF_LSTM_NEURONS  ... ZEUS_DMI_DMI_DMI_ADX ZEUS_DMI_DMI_DMI_MINUSDI  \\\n",
       "0                      50  ...                  NaN                      NaN   \n",
       "\n",
       "  ZEUS_DMI_DMI_DMI_PLUSDI QUANTUM_HARSI_HARSI_HARSI_STOCHD  \\\n",
       "0                     NaN                              NaN   \n",
       "\n",
       "  QUANTUM_HARSI_HARSI_HARSI_STOCHK QUANTUM_HARSI_HARSI_HARSI_HAMIN  \\\n",
       "0                              NaN                             NaN   \n",
       "\n",
       "  QUANTUM_HARSI_HARSI_HARSI_HAMAX QUANTUM_HARSI_HARSI_HARSI_HACLOSE  \\\n",
       "0                             NaN                               NaN   \n",
       "\n",
       "  QUANTUM_HARSI_HARSI_HARSI_HAOPEN QUANTUM_HARSI_HARSI_HARSI_RSI  \n",
       "0                              NaN                           NaN  \n",
       "\n",
       "[1 rows x 797 columns]"
      ]
     },
     "execution_count": 3,
     "metadata": {},
     "output_type": "execute_result"
    }
   ],
   "source": [
    "parameters_dataset = read_csv(\n",
    "    '/tf/notebooks/parameters.csv', \n",
    "    sep=' ',\n",
    "    skipinitialspace=True,\n",
    "    error_bad_lines=False,\n",
    "    warn_bad_lines=True\n",
    ")\n",
    "\n",
    "parameters_dataset"
   ]
  },
  {
   "cell_type": "code",
   "execution_count": 9,
   "metadata": {},
   "outputs": [],
   "source": [
    "# supporting both positional access and by name\n",
    "\n",
    "if set(['PARAMETER']).issubset(parameters_dataset.columns):\n",
    "        # number of indicator properties that are at the raw dataset. Each set of indicators properties might be at many assets or timeframes.\n",
    "    NUMBER_OF_INDICATORS_PROPERTIES = int(parameters_dataset.values[2][1])\n",
    "\n",
    "    # number of timesteps in the secuence that we are going to use to feed the model.\n",
    "    NUMBER_OF_LAG_TIMESTEPS = int(parameters_dataset.values[3][1])\n",
    "\n",
    "    # number of assets included at the raw dataset.\n",
    "    NUMBER_OF_ASSETS = int(parameters_dataset.values[4][1])\n",
    "\n",
    "    # number of things we are going to predict.\n",
    "    NUMBER_OF_LABELS = int(parameters_dataset.values[5][1])\n",
    "\n",
    "    # definition of how the raw dataset is going to be divided between a Traing Dataset and a Test Dataset.\n",
    "    PERCENTAGE_OF_DATASET_FOR_TRAINING = int(parameters_dataset.values[6][1])\n",
    "\n",
    "    NUMBER_OF_FEATURES = int(parameters_dataset.values[7][1])\n",
    "\n",
    "    # hyper-parameters\n",
    "    NUMBER_OF_EPOCHS = int(parameters_dataset.values[8][1])\n",
    "    NUMBER_OF_LSTM_NEURONS = int(parameters_dataset.values[9][1])\n",
    "\n",
    "else:\n",
    "    \n",
    "    NUMBER_OF_INDICATORS_PROPERTIES = int(parameters_dataset['NUMBER_OF_INDICATORS_PROPERTIES'][0])\n",
    "    # number of timesteps in the secuence that we are going to use to feed the model.\n",
    "    NUMBER_OF_LAG_TIMESTEPS = int(parameters_dataset['NUMBER_OF_LAG_TIMESTEPS'][0])\n",
    "\n",
    "    # number of assets included at the raw dataset.\n",
    "    NUMBER_OF_ASSETS = int(parameters_dataset['NUMBER_OF_ASSETS'][0])\n",
    "\n",
    "    # number of things we are going to predict.\n",
    "    NUMBER_OF_LABELS = int(parameters_dataset['NUMBER_OF_LABELS'][0])\n",
    "\n",
    "    # definition of how the raw dataset is going to be divided between a Traing Dataset and a Test Dataset.\n",
    "    PERCENTAGE_OF_DATASET_FOR_TRAINING = int(parameters_dataset['PERCENTAGE_OF_DATASET_FOR_TRAINING'][0])\n",
    "\n",
    "    NUMBER_OF_FEATURES = int(parameters_dataset['NUMBER_OF_FEATURES'][0])\n",
    "\n",
    "    # hyper-parameters\n",
    "    NUMBER_OF_EPOCHS = int(parameters_dataset['NUMBER_OF_EPOCHS'][0])\n",
    "    NUMBER_OF_LSTM_NEURONS = int(parameters_dataset['NUMBER_OF_LSTM_NEURONS'][0])"
   ]
  },
  {
   "cell_type": "markdown",
   "metadata": {},
   "source": [
    "## Load the Time-Series Dataset"
   ]
  },
  {
   "cell_type": "code",
   "execution_count": 10,
   "metadata": {},
   "outputs": [
    {
     "data": {
      "text/html": [
       "<div>\n",
       "<style scoped>\n",
       "    .dataframe tbody tr th:only-of-type {\n",
       "        vertical-align: middle;\n",
       "    }\n",
       "\n",
       "    .dataframe tbody tr th {\n",
       "        vertical-align: top;\n",
       "    }\n",
       "\n",
       "    .dataframe thead th {\n",
       "        text-align: right;\n",
       "    }\n",
       "</style>\n",
       "<table border=\"1\" class=\"dataframe\">\n",
       "  <thead>\n",
       "    <tr style=\"text-align: right;\">\n",
       "      <th></th>\n",
       "      <th>BTC-CANDLE-MAX-01-HS-1</th>\n",
       "      <th>BTC-CANDLE-MIN-01-HS-1</th>\n",
       "      <th>BTC-CANDLE-CLOSE-01-HS-1</th>\n",
       "      <th>BTC-CANDLE-OPEN-01-HS-1</th>\n",
       "      <th>BTC-VOLUME-BUY-01-HS-1</th>\n",
       "      <th>BTC-AUTOFIBRETRACEMENT-F1000-01-HS-1</th>\n",
       "      <th>BTC-AUTOFIBRETRACEMENT-F0618-01-HS-1</th>\n",
       "      <th>BTC-AUTOFIBRETRACEMENT-F0-01-HS-1</th>\n",
       "    </tr>\n",
       "    <tr>\n",
       "      <th>TIMESTAMP</th>\n",
       "      <th></th>\n",
       "      <th></th>\n",
       "      <th></th>\n",
       "      <th></th>\n",
       "      <th></th>\n",
       "      <th></th>\n",
       "      <th></th>\n",
       "      <th></th>\n",
       "    </tr>\n",
       "  </thead>\n",
       "  <tbody>\n",
       "    <tr>\n",
       "      <th>1502928000000</th>\n",
       "      <td>29287.05</td>\n",
       "      <td>29287.05</td>\n",
       "      <td>29287.05</td>\n",
       "      <td>29287.05</td>\n",
       "      <td>0.000000</td>\n",
       "      <td>29287.05</td>\n",
       "      <td>29287.05000</td>\n",
       "      <td>29287.05</td>\n",
       "    </tr>\n",
       "    <tr>\n",
       "      <th>1502931600000</th>\n",
       "      <td>29287.05</td>\n",
       "      <td>29287.05</td>\n",
       "      <td>29287.05</td>\n",
       "      <td>29287.05</td>\n",
       "      <td>0.000000</td>\n",
       "      <td>29287.05</td>\n",
       "      <td>29287.05000</td>\n",
       "      <td>29287.05</td>\n",
       "    </tr>\n",
       "    <tr>\n",
       "      <th>1502935200000</th>\n",
       "      <td>29287.05</td>\n",
       "      <td>29287.05</td>\n",
       "      <td>29287.05</td>\n",
       "      <td>29287.05</td>\n",
       "      <td>0.000000</td>\n",
       "      <td>29287.05</td>\n",
       "      <td>29287.05000</td>\n",
       "      <td>29287.05</td>\n",
       "    </tr>\n",
       "    <tr>\n",
       "      <th>1502938800000</th>\n",
       "      <td>29287.05</td>\n",
       "      <td>29287.05</td>\n",
       "      <td>29287.05</td>\n",
       "      <td>29287.05</td>\n",
       "      <td>0.000000</td>\n",
       "      <td>29287.05</td>\n",
       "      <td>29287.05000</td>\n",
       "      <td>29287.05</td>\n",
       "    </tr>\n",
       "    <tr>\n",
       "      <th>1502942400000</th>\n",
       "      <td>4313.62</td>\n",
       "      <td>4261.32</td>\n",
       "      <td>4308.83</td>\n",
       "      <td>4261.48</td>\n",
       "      <td>23.590505</td>\n",
       "      <td>29287.05</td>\n",
       "      <td>19745.36996</td>\n",
       "      <td>4308.83</td>\n",
       "    </tr>\n",
       "    <tr>\n",
       "      <th>...</th>\n",
       "      <td>...</td>\n",
       "      <td>...</td>\n",
       "      <td>...</td>\n",
       "      <td>...</td>\n",
       "      <td>...</td>\n",
       "      <td>...</td>\n",
       "      <td>...</td>\n",
       "      <td>...</td>\n",
       "    </tr>\n",
       "    <tr>\n",
       "      <th>1653012000000</th>\n",
       "      <td>30512.80</td>\n",
       "      <td>30228.63</td>\n",
       "      <td>30336.34</td>\n",
       "      <td>30475.58</td>\n",
       "      <td>830.502220</td>\n",
       "      <td>29967.40</td>\n",
       "      <td>30161.52094</td>\n",
       "      <td>30475.57</td>\n",
       "    </tr>\n",
       "    <tr>\n",
       "      <th>1653015600000</th>\n",
       "      <td>30345.24</td>\n",
       "      <td>30136.08</td>\n",
       "      <td>30175.03</td>\n",
       "      <td>30336.34</td>\n",
       "      <td>815.567215</td>\n",
       "      <td>29967.40</td>\n",
       "      <td>30161.52094</td>\n",
       "      <td>30475.57</td>\n",
       "    </tr>\n",
       "    <tr>\n",
       "      <th>1653019200000</th>\n",
       "      <td>30249.10</td>\n",
       "      <td>30012.00</td>\n",
       "      <td>30099.67</td>\n",
       "      <td>30175.04</td>\n",
       "      <td>810.927345</td>\n",
       "      <td>29967.40</td>\n",
       "      <td>30161.52094</td>\n",
       "      <td>30475.57</td>\n",
       "    </tr>\n",
       "    <tr>\n",
       "      <th>1653022800000</th>\n",
       "      <td>30194.27</td>\n",
       "      <td>30025.45</td>\n",
       "      <td>30185.39</td>\n",
       "      <td>30099.66</td>\n",
       "      <td>629.251780</td>\n",
       "      <td>30475.57</td>\n",
       "      <td>30331.97620</td>\n",
       "      <td>30099.67</td>\n",
       "    </tr>\n",
       "    <tr>\n",
       "      <th>1653026400000</th>\n",
       "      <td>30187.81</td>\n",
       "      <td>29850.51</td>\n",
       "      <td>30005.76</td>\n",
       "      <td>30185.39</td>\n",
       "      <td>1052.254485</td>\n",
       "      <td>30475.57</td>\n",
       "      <td>30296.10258</td>\n",
       "      <td>30005.76</td>\n",
       "    </tr>\n",
       "  </tbody>\n",
       "</table>\n",
       "<p>41695 rows × 8 columns</p>\n",
       "</div>"
      ],
      "text/plain": [
       "               BTC-CANDLE-MAX-01-HS-1  BTC-CANDLE-MIN-01-HS-1  \\\n",
       "TIMESTAMP                                                       \n",
       "1502928000000                29287.05                29287.05   \n",
       "1502931600000                29287.05                29287.05   \n",
       "1502935200000                29287.05                29287.05   \n",
       "1502938800000                29287.05                29287.05   \n",
       "1502942400000                 4313.62                 4261.32   \n",
       "...                               ...                     ...   \n",
       "1653012000000                30512.80                30228.63   \n",
       "1653015600000                30345.24                30136.08   \n",
       "1653019200000                30249.10                30012.00   \n",
       "1653022800000                30194.27                30025.45   \n",
       "1653026400000                30187.81                29850.51   \n",
       "\n",
       "               BTC-CANDLE-CLOSE-01-HS-1  BTC-CANDLE-OPEN-01-HS-1  \\\n",
       "TIMESTAMP                                                          \n",
       "1502928000000                  29287.05                 29287.05   \n",
       "1502931600000                  29287.05                 29287.05   \n",
       "1502935200000                  29287.05                 29287.05   \n",
       "1502938800000                  29287.05                 29287.05   \n",
       "1502942400000                   4308.83                  4261.48   \n",
       "...                                 ...                      ...   \n",
       "1653012000000                  30336.34                 30475.58   \n",
       "1653015600000                  30175.03                 30336.34   \n",
       "1653019200000                  30099.67                 30175.04   \n",
       "1653022800000                  30185.39                 30099.66   \n",
       "1653026400000                  30005.76                 30185.39   \n",
       "\n",
       "               BTC-VOLUME-BUY-01-HS-1  BTC-AUTOFIBRETRACEMENT-F1000-01-HS-1  \\\n",
       "TIMESTAMP                                                                     \n",
       "1502928000000                0.000000                              29287.05   \n",
       "1502931600000                0.000000                              29287.05   \n",
       "1502935200000                0.000000                              29287.05   \n",
       "1502938800000                0.000000                              29287.05   \n",
       "1502942400000               23.590505                              29287.05   \n",
       "...                               ...                                   ...   \n",
       "1653012000000              830.502220                              29967.40   \n",
       "1653015600000              815.567215                              29967.40   \n",
       "1653019200000              810.927345                              29967.40   \n",
       "1653022800000              629.251780                              30475.57   \n",
       "1653026400000             1052.254485                              30475.57   \n",
       "\n",
       "               BTC-AUTOFIBRETRACEMENT-F0618-01-HS-1  \\\n",
       "TIMESTAMP                                             \n",
       "1502928000000                           29287.05000   \n",
       "1502931600000                           29287.05000   \n",
       "1502935200000                           29287.05000   \n",
       "1502938800000                           29287.05000   \n",
       "1502942400000                           19745.36996   \n",
       "...                                             ...   \n",
       "1653012000000                           30161.52094   \n",
       "1653015600000                           30161.52094   \n",
       "1653019200000                           30161.52094   \n",
       "1653022800000                           30331.97620   \n",
       "1653026400000                           30296.10258   \n",
       "\n",
       "               BTC-AUTOFIBRETRACEMENT-F0-01-HS-1  \n",
       "TIMESTAMP                                         \n",
       "1502928000000                           29287.05  \n",
       "1502931600000                           29287.05  \n",
       "1502935200000                           29287.05  \n",
       "1502938800000                           29287.05  \n",
       "1502942400000                            4308.83  \n",
       "...                                          ...  \n",
       "1653012000000                           30475.57  \n",
       "1653015600000                           30475.57  \n",
       "1653019200000                           30475.57  \n",
       "1653022800000                           30099.67  \n",
       "1653026400000                           30005.76  \n",
       "\n",
       "[41695 rows x 8 columns]"
      ]
     },
     "execution_count": 10,
     "metadata": {},
     "output_type": "execute_result"
    }
   ],
   "source": [
    "timeseries_dataset = read_csv(\n",
    "    '/tf/notebooks/time-series.csv', \n",
    "    header=0, \n",
    "    index_col=0,    #The first colum is a timestamp that will be used to index all the data.\n",
    "    sep=' ', \n",
    "    skipinitialspace=True\n",
    ")\n",
    "\n",
    "timeseries_dataset"
   ]
  },
  {
   "cell_type": "markdown",
   "metadata": {},
   "source": [
    "## Duplicate the Last Record"
   ]
  },
  {
   "cell_type": "markdown",
   "metadata": {},
   "source": [
    "The reframing process shift each record to the left of the shifting window, producing that the last record of data is ignored at the last prediction. To fix this we will duplicate the last record so that the last prediction belongs to the the last piece of information available."
   ]
  },
  {
   "cell_type": "code",
   "execution_count": 11,
   "metadata": {},
   "outputs": [
    {
     "data": {
      "text/plain": [
       "1"
      ]
     },
     "execution_count": 11,
     "metadata": {},
     "output_type": "execute_result"
    }
   ],
   "source": [
    "values = timeseries_dataset.values"
   ]
  },
  {
   "cell_type": "code",
   "execution_count": 7,
   "metadata": {},
   "outputs": [
    {
     "data": {
      "text/plain": [
       "array([[36100.      , 35834.03    , 35940.01    , 35896.42    ,\n",
       "         1007.166995, 35896.42    ,  1007.166995]])"
      ]
     },
     "execution_count": 7,
     "metadata": {},
     "output_type": "execute_result"
    }
   ],
   "source": [
    "last_record = values[-1:,:]\n",
    "last_record"
   ]
  },
  {
   "cell_type": "code",
   "execution_count": 8,
   "metadata": {},
   "outputs": [
    {
     "data": {
      "text/plain": [
       "array([[ 7196.25     ,  7175.46     ,  7177.02     , ...,   255.9074505,\n",
       "         7195.24     ,   255.9074505],\n",
       "       [ 7230.       ,  7175.71     ,  7216.27     , ...,   441.5263015,\n",
       "         7176.47     ,   441.5263015],\n",
       "       [ 7244.87     ,  7211.41     ,  7242.85     , ...,   327.5784045,\n",
       "         7215.52     ,   327.5784045],\n",
       "       ...,\n",
       "       [36239.4      , 35848.13     , 35896.43     , ...,  1337.4329   ,\n",
       "        36218.02     ,  1337.4329   ],\n",
       "       [36100.       , 35834.03     , 35940.01     , ...,  1007.166995 ,\n",
       "        35896.42     ,  1007.166995 ],\n",
       "       [36100.       , 35834.03     , 35940.01     , ...,  1007.166995 ,\n",
       "        35896.42     ,  1007.166995 ]])"
      ]
     },
     "execution_count": 8,
     "metadata": {},
     "output_type": "execute_result"
    }
   ],
   "source": [
    "all_records = concatenate((values, last_record), axis=0)\n",
    "all_records"
   ]
  },
  {
   "cell_type": "code",
   "execution_count": 9,
   "metadata": {},
   "outputs": [],
   "source": [
    "# ensure all data is float\n",
    "values = all_records.astype('float32')"
   ]
  },
  {
   "cell_type": "markdown",
   "metadata": {},
   "source": [
    "## Plot & Verify"
   ]
  },
  {
   "cell_type": "markdown",
   "metadata": {},
   "source": [
    "We plot our raw data just to be sure with a glimpse that it is alright."
   ]
  },
  {
   "cell_type": "code",
   "execution_count": 10,
   "metadata": {},
   "outputs": [
    {
     "data": {
      "image/png": "[encoded data removed]",
      "text/plain": [
       "<Figure size 640x480 with 2 Axes>"
      ]
     },
     "metadata": {},
     "output_type": "display_data"
    }
   ],
   "source": [
    "# specify columns to plot\n",
    "groups = [0, 2]\n",
    "i = 1\n",
    "# plot each column\n",
    "pyplot.figure()\n",
    "for group in groups:\n",
    "\tpyplot.subplot(len(groups), 1, i)\n",
    "\tpyplot.plot(values[:, group])\n",
    "\tpyplot.title(timeseries_dataset.columns[group], y=0.5, loc='right')\n",
    "\ti += 1\n",
    "pyplot.show()"
   ]
  },
  {
   "cell_type": "markdown",
   "metadata": {},
   "source": [
    "## Normalization"
   ]
  },
  {
   "cell_type": "markdown",
   "metadata": {},
   "source": [
    "Normalizing or removing the scale, is a standar prodcedure of any machine learning workflow. "
   ]
  },
  {
   "cell_type": "code",
   "execution_count": 11,
   "metadata": {},
   "outputs": [],
   "source": [
    "# normalize features\n",
    "scaler = MinMaxScaler(feature_range=(0, 1))\n",
    "scaled = scaler.fit_transform(values)"
   ]
  },
  {
   "cell_type": "markdown",
   "metadata": {},
   "source": [
    "## Reframing as a Supervised Learning Problem"
   ]
  },
  {
   "cell_type": "markdown",
   "metadata": {},
   "source": [
    "Each Raw record needs to be expanded with the previous records in order to be suitable for beeing fed into a LSTM model. Some fields of the record at time = 0 will be used as labels and the ones at time < 0 as features."
   ]
  },
  {
   "cell_type": "code",
   "execution_count": 12,
   "metadata": {},
   "outputs": [],
   "source": [
    "# frame as supervised learning\n",
    "reframed = series_to_supervised(scaled, NUMBER_OF_LAG_TIMESTEPS, 1)"
   ]
  },
  {
   "cell_type": "code",
   "execution_count": 13,
   "metadata": {},
   "outputs": [
    {
     "data": {
      "text/html": [
       "<div>\n",
       "<style scoped>\n",
       "    .dataframe tbody tr th:only-of-type {\n",
       "        vertical-align: middle;\n",
       "    }\n",
       "\n",
       "    .dataframe tbody tr th {\n",
       "        vertical-align: top;\n",
       "    }\n",
       "\n",
       "    .dataframe thead th {\n",
       "        text-align: right;\n",
       "    }\n",
       "</style>\n",
       "<table border=\"1\" class=\"dataframe\">\n",
       "  <thead>\n",
       "    <tr style=\"text-align: right;\">\n",
       "      <th></th>\n",
       "      <th>var1(t-4)</th>\n",
       "      <th>var2(t-4)</th>\n",
       "      <th>var3(t-4)</th>\n",
       "      <th>var4(t-4)</th>\n",
       "      <th>var5(t-4)</th>\n",
       "      <th>var6(t-4)</th>\n",
       "      <th>var7(t-4)</th>\n",
       "      <th>var1(t-3)</th>\n",
       "      <th>var2(t-3)</th>\n",
       "      <th>var3(t-3)</th>\n",
       "      <th>...</th>\n",
       "      <th>var5(t-1)</th>\n",
       "      <th>var6(t-1)</th>\n",
       "      <th>var7(t-1)</th>\n",
       "      <th>var1(t)</th>\n",
       "      <th>var2(t)</th>\n",
       "      <th>var3(t)</th>\n",
       "      <th>var4(t)</th>\n",
       "      <th>var5(t)</th>\n",
       "      <th>var6(t)</th>\n",
       "      <th>var7(t)</th>\n",
       "    </tr>\n",
       "  </thead>\n",
       "  <tbody>\n",
       "    <tr>\n",
       "      <th>4</th>\n",
       "      <td>0.040165</td>\n",
       "      <td>0.052472</td>\n",
       "      <td>0.047228</td>\n",
       "      <td>0.047501</td>\n",
       "      <td>0.010831</td>\n",
       "      <td>0.047501</td>\n",
       "      <td>0.010831</td>\n",
       "      <td>0.040690</td>\n",
       "      <td>0.052476</td>\n",
       "      <td>0.047837</td>\n",
       "      <td>...</td>\n",
       "      <td>0.016585</td>\n",
       "      <td>0.048236</td>\n",
       "      <td>0.016585</td>\n",
       "      <td>0.040690</td>\n",
       "      <td>0.053084</td>\n",
       "      <td>0.047852</td>\n",
       "      <td>0.047963</td>\n",
       "      <td>0.009900</td>\n",
       "      <td>0.047963</td>\n",
       "      <td>0.009900</td>\n",
       "    </tr>\n",
       "    <tr>\n",
       "      <th>5</th>\n",
       "      <td>0.040690</td>\n",
       "      <td>0.052476</td>\n",
       "      <td>0.047837</td>\n",
       "      <td>0.047210</td>\n",
       "      <td>0.018687</td>\n",
       "      <td>0.047210</td>\n",
       "      <td>0.018687</td>\n",
       "      <td>0.040920</td>\n",
       "      <td>0.053028</td>\n",
       "      <td>0.048249</td>\n",
       "      <td>...</td>\n",
       "      <td>0.009900</td>\n",
       "      <td>0.047963</td>\n",
       "      <td>0.009900</td>\n",
       "      <td>0.040686</td>\n",
       "      <td>0.053109</td>\n",
       "      <td>0.047960</td>\n",
       "      <td>0.047843</td>\n",
       "      <td>0.007294</td>\n",
       "      <td>0.047843</td>\n",
       "      <td>0.007294</td>\n",
       "    </tr>\n",
       "    <tr>\n",
       "      <th>6</th>\n",
       "      <td>0.040920</td>\n",
       "      <td>0.053028</td>\n",
       "      <td>0.048249</td>\n",
       "      <td>0.047816</td>\n",
       "      <td>0.013864</td>\n",
       "      <td>0.047816</td>\n",
       "      <td>0.013864</td>\n",
       "      <td>0.040923</td>\n",
       "      <td>0.053161</td>\n",
       "      <td>0.047972</td>\n",
       "      <td>...</td>\n",
       "      <td>0.007294</td>\n",
       "      <td>0.047843</td>\n",
       "      <td>0.007294</td>\n",
       "      <td>0.040787</td>\n",
       "      <td>0.053184</td>\n",
       "      <td>0.047982</td>\n",
       "      <td>0.047951</td>\n",
       "      <td>0.013151</td>\n",
       "      <td>0.047951</td>\n",
       "      <td>0.013151</td>\n",
       "    </tr>\n",
       "    <tr>\n",
       "      <th>7</th>\n",
       "      <td>0.040923</td>\n",
       "      <td>0.053161</td>\n",
       "      <td>0.047972</td>\n",
       "      <td>0.048236</td>\n",
       "      <td>0.016585</td>\n",
       "      <td>0.048236</td>\n",
       "      <td>0.016585</td>\n",
       "      <td>0.040690</td>\n",
       "      <td>0.053084</td>\n",
       "      <td>0.047852</td>\n",
       "      <td>...</td>\n",
       "      <td>0.013151</td>\n",
       "      <td>0.047951</td>\n",
       "      <td>0.013151</td>\n",
       "      <td>0.040735</td>\n",
       "      <td>0.052838</td>\n",
       "      <td>0.047737</td>\n",
       "      <td>0.047976</td>\n",
       "      <td>0.013276</td>\n",
       "      <td>0.047976</td>\n",
       "      <td>0.013276</td>\n",
       "    </tr>\n",
       "    <tr>\n",
       "      <th>8</th>\n",
       "      <td>0.040690</td>\n",
       "      <td>0.053084</td>\n",
       "      <td>0.047852</td>\n",
       "      <td>0.047963</td>\n",
       "      <td>0.009900</td>\n",
       "      <td>0.047963</td>\n",
       "      <td>0.009900</td>\n",
       "      <td>0.040686</td>\n",
       "      <td>0.053109</td>\n",
       "      <td>0.047960</td>\n",
       "      <td>...</td>\n",
       "      <td>0.013276</td>\n",
       "      <td>0.047976</td>\n",
       "      <td>0.013276</td>\n",
       "      <td>0.040379</td>\n",
       "      <td>0.052542</td>\n",
       "      <td>0.047595</td>\n",
       "      <td>0.047727</td>\n",
       "      <td>0.019374</td>\n",
       "      <td>0.047727</td>\n",
       "      <td>0.019374</td>\n",
       "    </tr>\n",
       "    <tr>\n",
       "      <th>...</th>\n",
       "      <td>...</td>\n",
       "      <td>...</td>\n",
       "      <td>...</td>\n",
       "      <td>...</td>\n",
       "      <td>...</td>\n",
       "      <td>...</td>\n",
       "      <td>...</td>\n",
       "      <td>...</td>\n",
       "      <td>...</td>\n",
       "      <td>...</td>\n",
       "      <td>...</td>\n",
       "      <td>...</td>\n",
       "      <td>...</td>\n",
       "      <td>...</td>\n",
       "      <td>...</td>\n",
       "      <td>...</td>\n",
       "      <td>...</td>\n",
       "      <td>...</td>\n",
       "      <td>...</td>\n",
       "      <td>...</td>\n",
       "      <td>...</td>\n",
       "    </tr>\n",
       "    <tr>\n",
       "      <th>20559</th>\n",
       "      <td>0.489491</td>\n",
       "      <td>0.491811</td>\n",
       "      <td>0.490678</td>\n",
       "      <td>0.493204</td>\n",
       "      <td>0.085299</td>\n",
       "      <td>0.493204</td>\n",
       "      <td>0.085299</td>\n",
       "      <td>0.492767</td>\n",
       "      <td>0.493381</td>\n",
       "      <td>0.491381</td>\n",
       "      <td>...</td>\n",
       "      <td>0.192151</td>\n",
       "      <td>0.490145</td>\n",
       "      <td>0.192151</td>\n",
       "      <td>0.494272</td>\n",
       "      <td>0.497423</td>\n",
       "      <td>0.494143</td>\n",
       "      <td>0.496233</td>\n",
       "      <td>0.091035</td>\n",
       "      <td>0.496233</td>\n",
       "      <td>0.091035</td>\n",
       "    </tr>\n",
       "    <tr>\n",
       "      <th>20560</th>\n",
       "      <td>0.492767</td>\n",
       "      <td>0.493381</td>\n",
       "      <td>0.491381</td>\n",
       "      <td>0.490662</td>\n",
       "      <td>0.117321</td>\n",
       "      <td>0.490662</td>\n",
       "      <td>0.117321</td>\n",
       "      <td>0.488488</td>\n",
       "      <td>0.486722</td>\n",
       "      <td>0.490161</td>\n",
       "      <td>...</td>\n",
       "      <td>0.091035</td>\n",
       "      <td>0.496233</td>\n",
       "      <td>0.091035</td>\n",
       "      <td>0.491152</td>\n",
       "      <td>0.497090</td>\n",
       "      <td>0.497455</td>\n",
       "      <td>0.494127</td>\n",
       "      <td>0.074253</td>\n",
       "      <td>0.494127</td>\n",
       "      <td>0.074253</td>\n",
       "    </tr>\n",
       "    <tr>\n",
       "      <th>20561</th>\n",
       "      <td>0.488488</td>\n",
       "      <td>0.486722</td>\n",
       "      <td>0.490161</td>\n",
       "      <td>0.491366</td>\n",
       "      <td>0.197542</td>\n",
       "      <td>0.491366</td>\n",
       "      <td>0.197542</td>\n",
       "      <td>0.491326</td>\n",
       "      <td>0.492586</td>\n",
       "      <td>0.496248</td>\n",
       "      <td>...</td>\n",
       "      <td>0.074253</td>\n",
       "      <td>0.494127</td>\n",
       "      <td>0.074253</td>\n",
       "      <td>0.491216</td>\n",
       "      <td>0.495848</td>\n",
       "      <td>0.492470</td>\n",
       "      <td>0.497440</td>\n",
       "      <td>0.056604</td>\n",
       "      <td>0.497440</td>\n",
       "      <td>0.056604</td>\n",
       "    </tr>\n",
       "    <tr>\n",
       "      <th>20562</th>\n",
       "      <td>0.491326</td>\n",
       "      <td>0.492586</td>\n",
       "      <td>0.496248</td>\n",
       "      <td>0.490145</td>\n",
       "      <td>0.192151</td>\n",
       "      <td>0.490145</td>\n",
       "      <td>0.192151</td>\n",
       "      <td>0.494272</td>\n",
       "      <td>0.497423</td>\n",
       "      <td>0.494143</td>\n",
       "      <td>...</td>\n",
       "      <td>0.056604</td>\n",
       "      <td>0.497440</td>\n",
       "      <td>0.056604</td>\n",
       "      <td>0.489051</td>\n",
       "      <td>0.495630</td>\n",
       "      <td>0.493145</td>\n",
       "      <td>0.492454</td>\n",
       "      <td>0.042626</td>\n",
       "      <td>0.492454</td>\n",
       "      <td>0.042626</td>\n",
       "    </tr>\n",
       "    <tr>\n",
       "      <th>20563</th>\n",
       "      <td>0.494272</td>\n",
       "      <td>0.497423</td>\n",
       "      <td>0.494143</td>\n",
       "      <td>0.496233</td>\n",
       "      <td>0.091035</td>\n",
       "      <td>0.496233</td>\n",
       "      <td>0.091035</td>\n",
       "      <td>0.491152</td>\n",
       "      <td>0.497090</td>\n",
       "      <td>0.497455</td>\n",
       "      <td>...</td>\n",
       "      <td>0.042626</td>\n",
       "      <td>0.492454</td>\n",
       "      <td>0.042626</td>\n",
       "      <td>0.489051</td>\n",
       "      <td>0.495630</td>\n",
       "      <td>0.493145</td>\n",
       "      <td>0.492454</td>\n",
       "      <td>0.042626</td>\n",
       "      <td>0.492454</td>\n",
       "      <td>0.042626</td>\n",
       "    </tr>\n",
       "  </tbody>\n",
       "</table>\n",
       "<p>20560 rows × 35 columns</p>\n",
       "</div>"
      ],
      "text/plain": [
       "       var1(t-4)  var2(t-4)  var3(t-4)  var4(t-4)  var5(t-4)  var6(t-4)  \\\n",
       "4       0.040165   0.052472   0.047228   0.047501   0.010831   0.047501   \n",
       "5       0.040690   0.052476   0.047837   0.047210   0.018687   0.047210   \n",
       "6       0.040920   0.053028   0.048249   0.047816   0.013864   0.047816   \n",
       "7       0.040923   0.053161   0.047972   0.048236   0.016585   0.048236   \n",
       "8       0.040690   0.053084   0.047852   0.047963   0.009900   0.047963   \n",
       "...          ...        ...        ...        ...        ...        ...   \n",
       "20559   0.489491   0.491811   0.490678   0.493204   0.085299   0.493204   \n",
       "20560   0.492767   0.493381   0.491381   0.490662   0.117321   0.490662   \n",
       "20561   0.488488   0.486722   0.490161   0.491366   0.197542   0.491366   \n",
       "20562   0.491326   0.492586   0.496248   0.490145   0.192151   0.490145   \n",
       "20563   0.494272   0.497423   0.494143   0.496233   0.091035   0.496233   \n",
       "\n",
       "       var7(t-4)  var1(t-3)  var2(t-3)  var3(t-3)  ...  var5(t-1)  var6(t-1)  \\\n",
       "4       0.010831   0.040690   0.052476   0.047837  ...   0.016585   0.048236   \n",
       "5       0.018687   0.040920   0.053028   0.048249  ...   0.009900   0.047963   \n",
       "6       0.013864   0.040923   0.053161   0.047972  ...   0.007294   0.047843   \n",
       "7       0.016585   0.040690   0.053084   0.047852  ...   0.013151   0.047951   \n",
       "8       0.009900   0.040686   0.053109   0.047960  ...   0.013276   0.047976   \n",
       "...          ...        ...        ...        ...  ...        ...        ...   \n",
       "20559   0.085299   0.492767   0.493381   0.491381  ...   0.192151   0.490145   \n",
       "20560   0.117321   0.488488   0.486722   0.490161  ...   0.091035   0.496233   \n",
       "20561   0.197542   0.491326   0.492586   0.496248  ...   0.074253   0.494127   \n",
       "20562   0.192151   0.494272   0.497423   0.494143  ...   0.056604   0.497440   \n",
       "20563   0.091035   0.491152   0.497090   0.497455  ...   0.042626   0.492454   \n",
       "\n",
       "       var7(t-1)   var1(t)   var2(t)   var3(t)   var4(t)   var5(t)   var6(t)  \\\n",
       "4       0.016585  0.040690  0.053084  0.047852  0.047963  0.009900  0.047963   \n",
       "5       0.009900  0.040686  0.053109  0.047960  0.047843  0.007294  0.047843   \n",
       "6       0.007294  0.040787  0.053184  0.047982  0.047951  0.013151  0.047951   \n",
       "7       0.013151  0.040735  0.052838  0.047737  0.047976  0.013276  0.047976   \n",
       "8       0.013276  0.040379  0.052542  0.047595  0.047727  0.019374  0.047727   \n",
       "...          ...       ...       ...       ...       ...       ...       ...   \n",
       "20559   0.192151  0.494272  0.497423  0.494143  0.496233  0.091035  0.496233   \n",
       "20560   0.091035  0.491152  0.497090  0.497455  0.494127  0.074253  0.494127   \n",
       "20561   0.074253  0.491216  0.495848  0.492470  0.497440  0.056604  0.497440   \n",
       "20562   0.056604  0.489051  0.495630  0.493145  0.492454  0.042626  0.492454   \n",
       "20563   0.042626  0.489051  0.495630  0.493145  0.492454  0.042626  0.492454   \n",
       "\n",
       "        var7(t)  \n",
       "4      0.009900  \n",
       "5      0.007294  \n",
       "6      0.013151  \n",
       "7      0.013276  \n",
       "8      0.019374  \n",
       "...         ...  \n",
       "20559  0.091035  \n",
       "20560  0.074253  \n",
       "20561  0.056604  \n",
       "20562  0.042626  \n",
       "20563  0.042626  \n",
       "\n",
       "[20560 rows x 35 columns]"
      ]
     },
     "execution_count": 13,
     "metadata": {},
     "output_type": "execute_result"
    }
   ],
   "source": [
    "reframed"
   ]
  },
  {
   "cell_type": "markdown",
   "metadata": {},
   "source": [
    "## Train and Test Dataset Preparation"
   ]
  },
  {
   "cell_type": "markdown",
   "metadata": {},
   "source": [
    "The first part of the dataset will be used to train the model. The last part for calculating the prediction error. Later we will generate the predictions for the test dataset and measure how accurate they were."
   ]
  },
  {
   "cell_type": "code",
   "execution_count": 14,
   "metadata": {},
   "outputs": [
    {
     "data": {
      "text/plain": [
       "16448"
      ]
     },
     "execution_count": 14,
     "metadata": {},
     "output_type": "execute_result"
    }
   ],
   "source": [
    "# get values from reframed dataset\n",
    "values = reframed.values\n",
    "record_count = len(values)\n",
    "records_for_training = int(record_count * PERCENTAGE_OF_DATASET_FOR_TRAINING / 100)\n",
    "records_for_training"
   ]
  },
  {
   "cell_type": "code",
   "execution_count": 15,
   "metadata": {},
   "outputs": [],
   "source": [
    "# split into train and test sets\n",
    "train = values[:records_for_training, :]\n",
    "test = values[records_for_training:, :]"
   ]
  },
  {
   "cell_type": "code",
   "execution_count": 16,
   "metadata": {},
   "outputs": [
    {
     "data": {
      "text/plain": [
       "(16448, 35)"
      ]
     },
     "execution_count": 16,
     "metadata": {},
     "output_type": "execute_result"
    }
   ],
   "source": [
    "train.shape"
   ]
  },
  {
   "cell_type": "code",
   "execution_count": 17,
   "metadata": {},
   "outputs": [
    {
     "data": {
      "text/plain": [
       "(4112, 35)"
      ]
     },
     "execution_count": 17,
     "metadata": {},
     "output_type": "execute_result"
    }
   ],
   "source": [
    "test.shape"
   ]
  },
  {
   "cell_type": "markdown",
   "metadata": {},
   "source": [
    "## Split into Input and Outputs"
   ]
  },
  {
   "cell_type": "markdown",
   "metadata": {},
   "source": [
    "Here we will split both the Train and the Test datasets into features and labels. \n",
    "Features will be all the information where time < 0. For the labels, we will pick only the first 2 fields of each set of indicator properties, which we expect them to contain the Candle Max and Candle Min for each Asset."
   ]
  },
  {
   "cell_type": "code",
   "execution_count": 18,
   "metadata": {},
   "outputs": [],
   "source": [
    "# split into input and outputs\n",
    "n_obs = NUMBER_OF_LAG_TIMESTEPS * NUMBER_OF_FEATURES\n",
    "\n",
    "train_X = train[:, :n_obs]\n",
    "train_y = train[:, -NUMBER_OF_FEATURES:-(NUMBER_OF_FEATURES-NUMBER_OF_LABELS)]\n",
    "\n",
    "test_X = test[:, :n_obs]\n",
    "test_y = test[:, -NUMBER_OF_FEATURES:-(NUMBER_OF_FEATURES-NUMBER_OF_LABELS)]"
   ]
  },
  {
   "cell_type": "code",
   "execution_count": 19,
   "metadata": {},
   "outputs": [
    {
     "data": {
      "text/plain": [
       "array([[0.0401654 , 0.05247224, 0.04722846, ..., 0.04781557, 0.01386406,\n",
       "        0.04781557],\n",
       "       [0.04068955, 0.0524761 , 0.04783696, ..., 0.04823633, 0.01658475,\n",
       "        0.04823633],\n",
       "       [0.04092049, 0.05302815, 0.04824904, ..., 0.04796254, 0.00989959,\n",
       "        0.04796254],\n",
       "       ...,\n",
       "       [0.88388807, 0.8808044 , 0.88053   , ..., 0.87900436, 0.04787429,\n",
       "        0.87900436],\n",
       "       [0.8757258 , 0.873848  , 0.8790251 , ..., 0.8785957 , 0.0442762 ,\n",
       "        0.8785957 ],\n",
       "       [0.876602  , 0.87571937, 0.87863487, ..., 0.88164294, 0.09315863,\n",
       "        0.88164294]], dtype=float32)"
      ]
     },
     "execution_count": 19,
     "metadata": {},
     "output_type": "execute_result"
    }
   ],
   "source": [
    "train_X"
   ]
  },
  {
   "cell_type": "code",
   "execution_count": 20,
   "metadata": {},
   "outputs": [
    {
     "data": {
      "text/plain": [
       "array([[0.04785246, 0.04796254, 0.00989959],\n",
       "       [0.04796006, 0.04784254, 0.00729373],\n",
       "       [0.04798192, 0.04795076, 0.01315114],\n",
       "       ...,\n",
       "       [0.8692513 , 0.88164294, 0.09315863],\n",
       "       [0.8686312 , 0.86923087, 0.23576379],\n",
       "       [0.87505704, 0.86861074, 0.07085735]], dtype=float32)"
      ]
     },
     "execution_count": 20,
     "metadata": {},
     "output_type": "execute_result"
    }
   ],
   "source": [
    "train_y"
   ]
  },
  {
   "cell_type": "markdown",
   "metadata": {},
   "source": [
    "## Reshape Inputs to fit LSTM type of Network"
   ]
  },
  {
   "cell_type": "markdown",
   "metadata": {},
   "source": [
    "This type of Network Architecture requires the features to be in a 3D shape."
   ]
  },
  {
   "cell_type": "code",
   "execution_count": 21,
   "metadata": {},
   "outputs": [],
   "source": [
    "# reshape input to be 3D [samples, timesteps, features]\n",
    "train_X = train_X.reshape((train_X.shape[0], NUMBER_OF_LAG_TIMESTEPS, NUMBER_OF_FEATURES))\n",
    "test_X = test_X.reshape((test_X.shape[0], NUMBER_OF_LAG_TIMESTEPS, NUMBER_OF_FEATURES))"
   ]
  },
  {
   "cell_type": "markdown",
   "metadata": {},
   "source": [
    "## Network Architecture"
   ]
  },
  {
   "cell_type": "markdown",
   "metadata": {},
   "source": [
    "Here we are using an LSTM architecture for our neural network. This is the type of architecture usually used for problems involving time-series."
   ]
  },
  {
   "cell_type": "code",
   "execution_count": 22,
   "metadata": {},
   "outputs": [],
   "source": [
    "# design network\n",
    "model = Sequential()\n",
    "model.add(LSTM(NUMBER_OF_LSTM_NEURONS, input_shape=(train_X.shape[1], train_X.shape[2])))\n",
    "model.add(Dense(NUMBER_OF_LABELS))\n",
    "model.compile(loss='mae', optimizer='adam')"
   ]
  },
  {
   "cell_type": "markdown",
   "metadata": {},
   "source": [
    "## Fit the Model"
   ]
  },
  {
   "cell_type": "markdown",
   "metadata": {},
   "source": [
    "We print this output so that the caller program can get the results in a JSON object."
   ]
  },
  {
   "cell_type": "code",
   "execution_count": 23,
   "metadata": {},
   "outputs": [
    {
     "name": "stdout",
     "output_type": "stream",
     "text": [
      "{\n",
      "\"trainingOutput\": \"\n"
     ]
    }
   ],
   "source": [
    "print('{')\n",
    "print('\"trainingOutput\": \"')"
   ]
  },
  {
   "cell_type": "markdown",
   "metadata": {},
   "source": [
    "This is the actual process of training the neural network. "
   ]
  },
  {
   "cell_type": "code",
   "execution_count": 24,
   "metadata": {
    "scrolled": true
   },
   "outputs": [
    {
     "name": "stdout",
     "output_type": "stream",
     "text": [
      "229/229 - 2s - loss: 0.0254 - val_loss: 0.0495 - 2s/epoch - 10ms/step\n"
     ]
    }
   ],
   "source": [
    "# fit network\n",
    "history = model.fit(\n",
    "    train_X, \n",
    "    train_y, \n",
    "    epochs=NUMBER_OF_EPOCHS, \n",
    "    batch_size=72, \n",
    "    validation_data=(test_X, test_y), \n",
    "    verbose=2, \n",
    "    shuffle=False\n",
    ")"
   ]
  },
  {
   "cell_type": "code",
   "execution_count": 25,
   "metadata": {},
   "outputs": [
    {
     "name": "stdout",
     "output_type": "stream",
     "text": [
      "\"\n"
     ]
    }
   ],
   "source": [
    "print('\"')"
   ]
  },
  {
   "cell_type": "markdown",
   "metadata": {},
   "source": [
    "## Plot Fitting History"
   ]
  },
  {
   "cell_type": "code",
   "execution_count": 26,
   "metadata": {},
   "outputs": [
    {
     "data": {
      "image/png": "[encoded data removed]",
      "text/plain": [
       "<Figure size 640x480 with 1 Axes>"
      ]
     },
     "metadata": {},
     "output_type": "display_data"
    }
   ],
   "source": [
    "# plot history\n",
    "pyplot.plot(history.history['loss'], label='train')\n",
    "pyplot.plot(history.history['val_loss'], label='test')\n",
    "pyplot.legend()\n",
    "pyplot.show()"
   ]
  },
  {
   "cell_type": "markdown",
   "metadata": {},
   "source": [
    "## Batch Prediction of all Test Records"
   ]
  },
  {
   "cell_type": "markdown",
   "metadata": {},
   "source": [
    "Here we take all Test Records and get a prediction for each one of them. "
   ]
  },
  {
   "cell_type": "code",
   "execution_count": 27,
   "metadata": {},
   "outputs": [],
   "source": [
    "# make a prediction\n",
    "yhat = model.predict(test_X)\n",
    "test_X = test_X.reshape((test_X.shape[0], NUMBER_OF_LAG_TIMESTEPS*NUMBER_OF_FEATURES))"
   ]
  },
  {
   "cell_type": "code",
   "execution_count": 28,
   "metadata": {},
   "outputs": [
    {
     "data": {
      "text/plain": [
       "array([[0.889599  , 0.9036435 , 0.04862766],\n",
       "       [0.8907308 , 0.91404796, 0.05670647],\n",
       "       [0.8917961 , 0.9057064 , 0.04616688],\n",
       "       ...,\n",
       "       [0.5838139 , 0.6043396 , 0.0696387 ],\n",
       "       [0.58263916, 0.5942586 , 0.05859533],\n",
       "       [0.5791252 , 0.58523655, 0.05048373]], dtype=float32)"
      ]
     },
     "execution_count": 28,
     "metadata": {},
     "output_type": "execute_result"
    }
   ],
   "source": [
    "yhat"
   ]
  },
  {
   "cell_type": "markdown",
   "metadata": {},
   "source": [
    "## Reversing Normalization\n",
    "\n",
    "For inverting the scale (denormalize) of a test record, we need first to unframe the test_X values so as the get the original record. Since the label was the first colum of the record, we concatenate the prediction to the last columns of the framed record."
   ]
  },
  {
   "cell_type": "code",
   "execution_count": 29,
   "metadata": {},
   "outputs": [
    {
     "ename": "ValueError",
     "evalue": "operands could not be broadcast together with shapes (4112,5) (7,) (4112,5) ",
     "output_type": "error",
     "traceback": [
      "\u001b[0;31m---------------------------------------------------------------------------\u001b[0m",
      "\u001b[0;31mValueError\u001b[0m                                Traceback (most recent call last)",
      "Input \u001b[0;32mIn [29]\u001b[0m, in \u001b[0;36m<module>\u001b[0;34m\u001b[0m\n\u001b[1;32m      1\u001b[0m \u001b[38;5;66;03m# invert scaling for forecast\u001b[39;00m\n\u001b[1;32m      2\u001b[0m inv_yhat \u001b[38;5;241m=\u001b[39m concatenate((yhat, test_X[:, \u001b[38;5;241m-\u001b[39m(NUMBER_OF_FEATURES \u001b[38;5;241m-\u001b[39m NUMBER_OF_LABELS):]), axis\u001b[38;5;241m=\u001b[39m\u001b[38;5;241m1\u001b[39m)\n\u001b[0;32m----> 3\u001b[0m inv_yhat \u001b[38;5;241m=\u001b[39m \u001b[43mscaler\u001b[49m\u001b[38;5;241;43m.\u001b[39;49m\u001b[43minverse_transform\u001b[49m\u001b[43m(\u001b[49m\u001b[43minv_yhat\u001b[49m\u001b[43m)\u001b[49m\n\u001b[1;32m      4\u001b[0m inv_yhat \u001b[38;5;241m=\u001b[39m inv_yhat[:,:NUMBER_OF_LABELS]\n\u001b[1;32m      5\u001b[0m inv_yhat\n",
      "File \u001b[0;32m/usr/local/lib/python3.8/dist-packages/sklearn/preprocessing/_data.py:529\u001b[0m, in \u001b[0;36mMinMaxScaler.inverse_transform\u001b[0;34m(self, X)\u001b[0m\n\u001b[1;32m    523\u001b[0m check_is_fitted(\u001b[38;5;28mself\u001b[39m)\n\u001b[1;32m    525\u001b[0m X \u001b[38;5;241m=\u001b[39m check_array(\n\u001b[1;32m    526\u001b[0m     X, copy\u001b[38;5;241m=\u001b[39m\u001b[38;5;28mself\u001b[39m\u001b[38;5;241m.\u001b[39mcopy, dtype\u001b[38;5;241m=\u001b[39mFLOAT_DTYPES, force_all_finite\u001b[38;5;241m=\u001b[39m\u001b[38;5;124m\"\u001b[39m\u001b[38;5;124mallow-nan\u001b[39m\u001b[38;5;124m\"\u001b[39m\n\u001b[1;32m    527\u001b[0m )\n\u001b[0;32m--> 529\u001b[0m X \u001b[38;5;241m-\u001b[39m\u001b[38;5;241m=\u001b[39m \u001b[38;5;28mself\u001b[39m\u001b[38;5;241m.\u001b[39mmin_\n\u001b[1;32m    530\u001b[0m X \u001b[38;5;241m/\u001b[39m\u001b[38;5;241m=\u001b[39m \u001b[38;5;28mself\u001b[39m\u001b[38;5;241m.\u001b[39mscale_\n\u001b[1;32m    531\u001b[0m \u001b[38;5;28;01mreturn\u001b[39;00m X\n",
      "\u001b[0;31mValueError\u001b[0m: operands could not be broadcast together with shapes (4112,5) (7,) (4112,5) "
     ]
    }
   ],
   "source": [
    "# invert scaling for forecast\n",
    "inv_yhat = concatenate((yhat, test_X[:, -(NUMBER_OF_FEATURES - NUMBER_OF_LABELS):]), axis=1)\n",
    "inv_yhat = scaler.inverse_transform(inv_yhat)\n",
    "inv_yhat = inv_yhat[:,:NUMBER_OF_LABELS]\n",
    "inv_yhat"
   ]
  },
  {
   "cell_type": "code",
   "execution_count": 30,
   "metadata": {
    "scrolled": true
   },
   "outputs": [
    {
     "ename": "ValueError",
     "evalue": "operands could not be broadcast together with shapes (4112,5) (7,) (4112,5) ",
     "output_type": "error",
     "traceback": [
      "\u001b[0;31m---------------------------------------------------------------------------\u001b[0m",
      "\u001b[0;31mValueError\u001b[0m                                Traceback (most recent call last)",
      "Input \u001b[0;32mIn [30]\u001b[0m, in \u001b[0;36m<module>\u001b[0;34m\u001b[0m\n\u001b[1;32m      1\u001b[0m \u001b[38;5;66;03m# invert scaling for actual\u001b[39;00m\n\u001b[1;32m      2\u001b[0m inv_y \u001b[38;5;241m=\u001b[39m concatenate((test_y, test_X[:, \u001b[38;5;241m-\u001b[39m(NUMBER_OF_FEATURES \u001b[38;5;241m-\u001b[39m NUMBER_OF_LABELS):]), axis\u001b[38;5;241m=\u001b[39m\u001b[38;5;241m1\u001b[39m)\n\u001b[0;32m----> 3\u001b[0m inv_y \u001b[38;5;241m=\u001b[39m \u001b[43mscaler\u001b[49m\u001b[38;5;241;43m.\u001b[39;49m\u001b[43minverse_transform\u001b[49m\u001b[43m(\u001b[49m\u001b[43minv_y\u001b[49m\u001b[43m)\u001b[49m\n\u001b[1;32m      4\u001b[0m inv_y \u001b[38;5;241m=\u001b[39m inv_y[:,:NUMBER_OF_LABELS]\n\u001b[1;32m      5\u001b[0m inv_y\n",
      "File \u001b[0;32m/usr/local/lib/python3.8/dist-packages/sklearn/preprocessing/_data.py:529\u001b[0m, in \u001b[0;36mMinMaxScaler.inverse_transform\u001b[0;34m(self, X)\u001b[0m\n\u001b[1;32m    523\u001b[0m check_is_fitted(\u001b[38;5;28mself\u001b[39m)\n\u001b[1;32m    525\u001b[0m X \u001b[38;5;241m=\u001b[39m check_array(\n\u001b[1;32m    526\u001b[0m     X, copy\u001b[38;5;241m=\u001b[39m\u001b[38;5;28mself\u001b[39m\u001b[38;5;241m.\u001b[39mcopy, dtype\u001b[38;5;241m=\u001b[39mFLOAT_DTYPES, force_all_finite\u001b[38;5;241m=\u001b[39m\u001b[38;5;124m\"\u001b[39m\u001b[38;5;124mallow-nan\u001b[39m\u001b[38;5;124m\"\u001b[39m\n\u001b[1;32m    527\u001b[0m )\n\u001b[0;32m--> 529\u001b[0m X \u001b[38;5;241m-\u001b[39m\u001b[38;5;241m=\u001b[39m \u001b[38;5;28mself\u001b[39m\u001b[38;5;241m.\u001b[39mmin_\n\u001b[1;32m    530\u001b[0m X \u001b[38;5;241m/\u001b[39m\u001b[38;5;241m=\u001b[39m \u001b[38;5;28mself\u001b[39m\u001b[38;5;241m.\u001b[39mscale_\n\u001b[1;32m    531\u001b[0m \u001b[38;5;28;01mreturn\u001b[39;00m X\n",
      "\u001b[0;31mValueError\u001b[0m: operands could not be broadcast together with shapes (4112,5) (7,) (4112,5) "
     ]
    }
   ],
   "source": [
    "# invert scaling for actual\n",
    "inv_y = concatenate((test_y, test_X[:, -(NUMBER_OF_FEATURES - NUMBER_OF_LABELS):]), axis=1)\n",
    "inv_y = scaler.inverse_transform(inv_y)\n",
    "inv_y = inv_y[:,:NUMBER_OF_LABELS]\n",
    "inv_y"
   ]
  },
  {
   "cell_type": "markdown",
   "metadata": {},
   "source": [
    "## Error Calculations"
   ]
  },
  {
   "cell_type": "markdown",
   "metadata": {},
   "source": [
    "### Main Error Value"
   ]
  },
  {
   "cell_type": "code",
   "execution_count": 31,
   "metadata": {},
   "outputs": [],
   "source": [
    "# calculate RMSE\n",
    "rmse = sqrt(mean_squared_error(inv_y, inv_yhat))"
   ]
  },
  {
   "cell_type": "markdown",
   "metadata": {},
   "source": [
    "This is the main value we use to know how much error there is. We need this value to go as down as possible."
   ]
  },
  {
   "cell_type": "markdown",
   "metadata": {},
   "source": [
    "### Alternative Error Analisys"
   ]
  },
  {
   "cell_type": "code",
   "execution_count": 32,
   "metadata": {},
   "outputs": [
    {
     "data": {
      "text/plain": [
       "array([[  2.63,   3.26, -21.34,   0.  ,   0.  ],\n",
       "       [  1.86,   5.45,  34.36,   0.  ,   0.  ],\n",
       "       [  1.32,   3.57, -31.77,   0.  ,   0.  ],\n",
       "       ...,\n",
       "       [ 18.54,  21.49,  23.02,   0.  ,   0.  ],\n",
       "       [ 18.14,  20.67,  37.46,   0.  ,   0.  ],\n",
       "       [ 17.43,  18.84,  18.43,   0.  ,   0.  ]])"
      ]
     },
     "execution_count": 32,
     "metadata": {},
     "output_type": "execute_result"
    }
   ],
   "source": [
    "# my way to calculating Errors\n",
    "errors = (inv_yhat - inv_y) / inv_y * 10000\n",
    "errors = errors.astype('int') / 100\n",
    "errors"
   ]
  },
  {
   "cell_type": "markdown",
   "metadata": {},
   "source": [
    "### Plot of the % of Error of each Predicted Value "
   ]
  },
  {
   "cell_type": "code",
   "execution_count": 33,
   "metadata": {},
   "outputs": [
    {
     "data": {
      "image/png": "[encoded data removed]",
      "text/plain": [
       "<Figure size 640x480 with 1 Axes>"
      ]
     },
     "metadata": {},
     "output_type": "display_data"
    }
   ],
   "source": [
    "# plot errors\n",
    "pyplot.plot(errors)\n",
    "pyplot.show()"
   ]
  },
  {
   "cell_type": "markdown",
   "metadata": {},
   "source": [
    "### Dollar Difference Between Prediction and Actual Value"
   ]
  },
  {
   "cell_type": "markdown",
   "metadata": {},
   "source": [
    "In the context of the Test dataset, this is what we get if we substract the Actual Value to the Predicted Value."
   ]
  },
  {
   "cell_type": "code",
   "execution_count": 34,
   "metadata": {},
   "outputs": [
    {
     "data": {
      "text/plain": [
       "array([[-2.2430725 , -1.5765133 , -0.5891323 ],\n",
       "       [-2.229433  , -1.3919659 , -0.81913185],\n",
       "       [-1.9625072 , -1.3882027 , -0.3407898 ],\n",
       "       ...,\n",
       "       [ 2.2681847 ,  1.7824469 ,  1.9524765 ],\n",
       "       [ 2.2316933 ,  1.654602  ,  1.4972944 ],\n",
       "       [ 2.2057676 ,  1.6550913 ,  1.5107384 ]], dtype=float32)"
      ]
     },
     "execution_count": 34,
     "metadata": {},
     "output_type": "execute_result"
    }
   ],
   "source": [
    "diff = (inv_yhat - inv_y) \n",
    "diff = diff.astype('float32')\n",
    "diff"
   ]
  },
  {
   "cell_type": "markdown",
   "metadata": {},
   "source": [
    "## Returning Predictions & Errors"
   ]
  },
  {
   "cell_type": "markdown",
   "metadata": {},
   "source": [
    "Here we are returning the predictions to the caller program. Only the last row of predictions are needed because they belong to the latest closed candle. "
   ]
  },
  {
   "cell_type": "code",
   "execution_count": 34,
   "metadata": {},
   "outputs": [
    {
     "name": "stdout",
     "output_type": "stream",
     "text": [
      ",\"predictions\": \" [0.5791252  0.58523655 0.05048373 0.05660401 0.49743962] \"\n"
     ]
    }
   ],
   "source": [
    "print(',\"predictions\": \"', inv_yhat[-1], '\"' )"
   ]
  },
  {
   "cell_type": "code",
   "execution_count": 35,
   "metadata": {},
   "outputs": [
    {
     "name": "stdout",
     "output_type": "stream",
     "text": [
      ",\"errorRMSE\": 0.044\n",
      "}\n"
     ]
    }
   ],
   "source": [
    "print(',\"errorRMSE\": %.3f' % rmse)\n",
    "print('}')"
   ]
  },
  {
   "cell_type": "markdown",
   "metadata": {},
   "source": [
    "##### "
   ]
  },
  {
   "cell_type": "markdown",
   "metadata": {},
   "source": [
    "###### "
   ]
  }
 ],
 "metadata": {
  "colab": {
   "collapsed_sections": [],
   "name": "Copy of csv.ipynb",
   "provenance": [],
   "toc_visible": true
  },
  "interpreter": {
   "hash": "916dbcbb3f70747c44a77c7bcd40155683ae19c65e1c03b4aa3499c5328201f1"
  },
  "kernelspec": {
   "display_name": "Python 3",
   "language": "python",
   "name": "python3"
  },
  "language_info": {
   "codemirror_mode": {
    "name": "ipython",
    "version": 3
   },
   "file_extension": ".py",
   "mimetype": "text/x-python",
   "name": "python",
   "nbconvert_exporter": "python",
   "pygments_lexer": "ipython3",
   "version": "3.8.10"
  }
 },
 "nbformat": 4,
 "nbformat_minor": 1
}
